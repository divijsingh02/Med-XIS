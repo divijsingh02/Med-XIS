{
 "cells": [
  {
   "cell_type": "markdown",
   "metadata": {
    "ExecuteTime": {
     "end_time": "2021-09-25T14:49:58.233227Z",
     "start_time": "2021-09-25T14:49:57.330592Z"
    },
    "id": "JQKNSAeyN0Xe"
   },
   "source": [
    "# Training and validation "
   ]
  },
  {
   "cell_type": "markdown",
   "metadata": {},
   "source": [
    "To start training-\n",
    "\n",
    "i) Folders for Training , training label, Validation and validation label images should be there along with this code file\n",
    "\n",
    "ii) Network and modeling folder (as given in github) should also be in same folder\n",
    "\n",
    "Just run all the codes sequentially and you will get the output\n",
    "\n",
    "Note:\n",
    "\n",
    "i) all the images should be in .jpg \n",
    "ii) You can change the batch size, image resizing size (if 400 then the resized image would be 400 X 400) ,optimizer, scheduler and number of epochs in the below cell.\n",
    "iii) Batch size=12 and image resize=400 will cost ~10gb gpu memory and about half hour to train.\n",
    "iv) ideal epochs = 50 (Highest accurate model would be saved )\n",
    "\n"
   ]
  },
  {
   "cell_type": "code",
   "execution_count": 1,
   "metadata": {},
   "outputs": [],
   "source": [
    "import os\n",
    "import copy\n",
    "import numpy as np\n",
    "import torch\n",
    "import torch.nn as nn\n",
    "import torch.nn.functional as F\n",
    "import torch.utils.data as data\n",
    "import torchvision\n",
    "from torchvision import transforms\n",
    "import torch.optim as optim\n",
    "import matplotlib.pyplot as plt\n",
    "import cv2 \n",
    "\n",
    "batch     = 12\n",
    "size      = 400\n",
    "epochs    = 50"
   ]
  },
  {
   "cell_type": "code",
   "execution_count": 2,
   "metadata": {
    "ExecuteTime": {
     "end_time": "2021-09-25T14:49:58.424713Z",
     "start_time": "2021-09-25T14:49:58.410750Z"
    },
    "id": "aDxpUxsLPCWA"
   },
   "outputs": [],
   "source": [
    "# Import train, validation and test images from the folders and store in a list\n",
    "\n",
    "import os\n",
    "# To load images\n",
    "\n",
    "def load_img(folder):\n",
    "    c = 0;\n",
    "    images = [];\n",
    "    filenam =[];\n",
    "    for filename in os.listdir(folder): # List all the filenames in the folde\n",
    "        print('nwname ',filename)\n",
    "        c = c + 1;\n",
    "        print(c);\n",
    "        img = cv2.imread(os.path.join(folder, filename)); \n",
    "        img = cv2.resize(img, (size,size))\n",
    "        images.append(img);\n",
    "        del img\n",
    "\n",
    "    return images\n",
    "\n",
    "# To load labeled gray-scaled images\n",
    "\n",
    "def load_label_img(folder):\n",
    "    images = [];\n",
    "    c = 0;\n",
    "    for filename in os.listdir(folder): # List all the filenames in the folder\n",
    "        c = c + 1;\n",
    "        print(c);\n",
    "        img = cv2.imread(os.path.join(folder, filename));\n",
    "        img = cv2.resize(img, (size,size)) \n",
    "        img = cv2.cvtColor(img, cv2.COLOR_BGR2GRAY);\n",
    "        # del img1\n",
    "       \n",
    "        images.append(img);\n",
    "        del img\n",
    "        \n",
    "\n",
    "    return images\n"
   ]
  },
  {
   "cell_type": "code",
   "execution_count": 3,
   "metadata": {
    "ExecuteTime": {
     "end_time": "2021-09-25T14:49:58.770289Z",
     "start_time": "2021-09-25T14:49:58.737378Z"
    },
    "id": "QLfYSFTdPg0a"
   },
   "outputs": [],
   "source": [
    "# Convert the output labels to pixel-wise classes\n",
    "\n",
    "def c2g(cn):\n",
    "    cn1 = np.reshape(cn, (1, 1, 3));\n",
    "    cn = cv2.cvtColor(cn1, cv2.COLOR_BGR2GRAY);\n",
    "    del cn1\n",
    "    return cn;\n",
    "\n",
    "colors = [];\n",
    "colors.append(c2g(np.array([0, 0, 0], dtype = 'uint8')));\n",
    "colors.append(c2g(np.array([255, 255, 255], dtype = 'uint8')));\n",
    "\n",
    "# colors.append(c2g(np.array([0, 0, 0], dtype = 'uint8')));\n",
    "\n",
    "import torch\n",
    "from PIL import Image\n",
    "from torch import Tensor\n",
    "from torchvision.transforms import transforms\n",
    "import torchvision.transforms.functional as F\n",
    "\n",
    "import numpy as np\n",
    "import matplotlib\n",
    "import matplotlib.pyplot as plt\n",
    "\n",
    "import numbers\n",
    "from abc import abstractmethod\n",
    "from typing import Tuple\n",
    "import random\n",
    "\n",
    "\n",
    "# \n",
    "\n",
    "def class_pixel(label_img):\n",
    "    # print(label_img.shape)\n",
    "    \n",
    "    aa,bb = label_img.shape\n",
    "\n",
    "    \n",
    "    class_pix = np.ones([aa, bb, 1], dtype = int);\n",
    "    for index, c in enumerate(colors):\n",
    "        \n",
    "        class_pix[label_img == c] = index; \n",
    "    # print(class_pix)\n",
    "    \n",
    "\n",
    "    return class_pix\n",
    "def label_img_list(img_list):\n",
    "    images = [];\n",
    "    for image in img_list:\n",
    "        images.append(class_pixel(image));\n",
    "    del img_list\n",
    "    return images;\n"
   ]
  },
  {
   "cell_type": "markdown",
   "metadata": {},
   "source": [
    "# Data Loading"
   ]
  },
  {
   "cell_type": "code",
   "execution_count": 4,
   "metadata": {
    "ExecuteTime": {
     "end_time": "2021-09-25T14:50:00.274274Z",
     "start_time": "2021-09-25T14:49:59.083385Z"
    },
    "colab": {
     "base_uri": "https://localhost:8080/"
    },
    "id": "fUs-7cbAClIu",
    "outputId": "a5f1cb90-46e7-4fab-8b59-74642a07b22d"
   },
   "outputs": [
    {
     "name": "stdout",
     "output_type": "stream",
     "text": [
      "nwname  ckcu8ty6z00003b5yzfaezbs5.jpg\n",
      "1\n",
      "nwname  ckcu8v7pr00013b5ymfi2z7uf.jpg\n",
      "2\n",
      "nwname  ckcu8w7vy00023b5y3vt2wczx.jpg\n",
      "3\n",
      "nwname  ckcu8xad600033b5yc78xfyjx.jpg\n",
      "4\n",
      "nwname  ckcu99qx200043b5yd2c5g84t.jpg\n",
      "5\n",
      "nwname  ckcu9ejjf00053b5y4mf7bilw.jpg\n",
      "6\n",
      "nwname  ckcu9ij2e00063b5yrrbb3f2o.jpg\n",
      "7\n",
      "nwname  ckcu9j9vo00073b5y3m92mu6n.jpg\n",
      "8\n",
      "nwname  ckcu9jucf00083b5ytpqoue72.jpg\n",
      "9\n",
      "nwname  ckcu9ksoq00093b5ylw5wwfr2.jpg\n",
      "10\n",
      "nwname  ckcu9lvft000a3b5yb79pnr64.jpg\n",
      "11\n",
      "nwname  ckcu9mtrc000b3b5y826amhgq.jpg\n",
      "12\n",
      "nwname  ckcu9newl000c3b5ynkam0whb.jpg\n",
      "13\n",
      "nwname  ckcu9qend000d3b5y0mgn5fhw.jpg\n",
      "14\n",
      "nwname  ckcu9r72l000e3b5yerhwmjut.jpg\n",
      "15\n",
      "nwname  ckcu9ru1s000f3b5yi4748k4m.jpg\n",
      "16\n",
      "nwname  ckcu9sikm000g3b5y1yd89b1g.jpg\n",
      "17\n",
      "nwname  ckcu9t8au000h3b5y7l82d9jh.jpg\n",
      "18\n",
      "nwname  ckcu9tscz000i3b5yqgmkln7u.jpg\n",
      "19\n",
      "nwname  ckcu9vda7000k3b5yh7a2gh5v.jpg\n",
      "20\n",
      "nwname  ckcu9w0ls000l3b5yfqcnpqny.jpg\n",
      "21\n",
      "nwname  ckcu9xaug000n3b5y480n145d.jpg\n",
      "22\n",
      "nwname  ckcu9yqhb000o3b5y5o6idona.jpg\n",
      "23\n",
      "nwname  ckcu9zqev000p3b5ylwdnm6e8.jpg\n",
      "24\n",
      "nwname  ckcua0dkl000q3b5yv82ib6zr.jpg\n",
      "25\n",
      "nwname  ckcua11xd000r3b5y2tlf255p.jpg\n",
      "26\n",
      "nwname  ckcua1vxx000s3b5yqqwohpza.jpg\n",
      "27\n",
      "nwname  ckcua4c08000v3b5ycdxfez4q.jpg\n",
      "28\n",
      "nwname  ckcua4qo3000w3b5yz2oxtkud.jpg\n",
      "29\n",
      "nwname  ckcua5ymi000x3b5ynlsqwhhs.jpg\n",
      "30\n",
      "nwname  ckcuae2qy000z3b5y13dxwjxh.jpg\n",
      "31\n",
      "nwname  ckcuag8sn00103b5yv4yglb5m.jpg\n",
      "32\n",
      "nwname  ckcuagt5s00113b5y5uuzm8qh.jpg\n",
      "33\n",
      "nwname  ckcuas52500003b5yrdbixgv7.jpg\n",
      "34\n",
      "nwname  ckcuatbig00013b5yiy5rr09i.jpg\n",
      "35\n",
      "nwname  ckcuau0r900023b5y0s8h6sqf.jpg\n",
      "36\n",
      "nwname  ckcuaunq200033b5yjtfxlirm.jpg\n",
      "37\n",
      "nwname  ckcuaxydc00043b5y2opk3s8z.jpg\n",
      "38\n",
      "nwname  ckcuayckt00053b5yvkvaqpgp.jpg\n",
      "39\n",
      "nwname  ckcuazqgy00073b5y8kg82iqm.jpg\n",
      "40\n",
      "nwname  ckcub066300083b5yusl7dofb.jpg\n",
      "41\n",
      "nwname  ckcub0ne300093b5yrk78ydyc.jpg\n",
      "42\n",
      "nwname  ckcub1nod000a3b5y4n40jm90.jpg\n",
      "43\n",
      "nwname  ckcub2v2b000c3b5yhsyvoqis.jpg\n",
      "44\n",
      "nwname  ckcud6lkl000d3b5yflhjqie0.jpg\n",
      "45\n",
      "nwname  ckcud7bwt000e3b5ysc66sqs4.jpg\n",
      "46\n",
      "nwname  ckcud80aw000f3b5yjerqwsbq.jpg\n",
      "47\n",
      "nwname  ckcud8gmy000g3b5yo7x751p3.jpg\n",
      "48\n",
      "nwname  ckcud94xp000h3b5yael7l26v.jpg\n",
      "49\n",
      "nwname  ckcudacw1000i3b5yt8koxd53.jpg\n",
      "50\n",
      "nwname  ckcudav17000j3b5ynmszygwj.jpg\n",
      "51\n",
      "nwname  ckcudbgxg000k3b5yv2jeu7fv.jpg\n",
      "52\n",
      "nwname  ckcudcdcx000l3b5yh7w3lrwp.jpg\n",
      "53\n",
      "nwname  ckcudd247000m3b5yjxgxd6vp.jpg\n",
      "54\n",
      "nwname  ckcuddjon000n3b5ygm7tdupi.jpg\n",
      "55\n",
      "nwname  ckcude7ho000o3b5ytoe12oms.jpg\n",
      "56\n",
      "nwname  ckcudf6y7000p3b5ytzahyvnc.jpg\n",
      "57\n",
      "nwname  ckcudfm6w000q3b5ylbvgnqoq.jpg\n",
      "58\n",
      "nwname  ckcudg5nl000r3b5yn054nsp5.jpg\n",
      "59\n",
      "nwname  ckcudgovj000s3b5yl9kkw9fk.jpg\n",
      "60\n",
      "nwname  ckd0364na000x3b5y10hfhtxs.jpg\n",
      "61\n",
      "nwname  ckd0500qi000q3b5ydyfailqn.jpg\n",
      "62\n",
      "nwname  ckd05478i000v3b5y35anect7.jpg\n",
      "63\n",
      "nwname  ckd0558dp000x3b5yxxonzkgj.jpg\n",
      "64\n",
      "nwname  ckd0818xh000a3b5y07s9pr10.jpg\n",
      "65\n",
      "nwname  ckd0820fx000b3b5yv6tljfep.jpg\n",
      "66\n",
      "nwname  ckd084qah000f3b5yt534e31i.jpg\n",
      "67\n",
      "nwname  ckd0859ml000g3b5y8ssnp5qx.jpg\n",
      "68\n",
      "nwname  ckd086ahm000h3b5yjhj8dcly.jpg\n",
      "69\n",
      "nwname  ckd0871up000i3b5y90ce4n22.jpg\n",
      "70\n",
      "nwname  ckd087nkh000j3b5ylgpadke5.jpg\n",
      "71\n",
      "nwname  ckd088ag2000k3b5ylpvjdrdv.jpg\n",
      "72\n",
      "nwname  ckd088s6p000l3b5yavygz1ob.jpg\n",
      "73\n",
      "nwname  ckd0899mq000m3b5yu85rmd06.jpg\n",
      "74\n",
      "nwname  ckd0923bt00003b5yuv4gqgvt.jpg\n",
      "75\n",
      "nwname  ckd092yf800013b5yhq7orv0b.jpg\n",
      "76\n",
      "nwname  ckd093tfd00023b5y7z8ichgj.jpg\n",
      "77\n",
      "nwname  ckd094ie600033b5yf4bj2m8i.jpg\n",
      "78\n",
      "nwname  ckd0950iy00043b5yefukpb9q.jpg\n",
      "79\n",
      "nwname  ckd095ucn00053b5y8jt0fkbt.jpg\n",
      "80\n",
      "nwname  ckd096n8c00063b5ybmn9cm59.jpg\n",
      "81\n",
      "nwname  ckd0976i600073b5y6rm5cgkp.jpg\n",
      "82\n",
      "nwname  ckd0983ck00083b5y45f4wsky.jpg\n",
      "83\n",
      "nwname  ckd0995fe00093b5yzebk675a.jpg\n",
      "84\n",
      "nwname  ckd099ktw000a3b5y9yljn7ke.jpg\n",
      "85\n",
      "nwname  ckd494lhg00093b5yklciypt8.jpg\n",
      "86\n",
      "nwname  ckd495l8u000a3b5yjzs1d5zg.jpg\n",
      "87\n",
      "nwname  ckd496imr000b3b5yie9cg7jd.jpg\n",
      "88\n",
      "nwname  ckd498dpe000c3b5y7ma9aibh.jpg\n",
      "89\n",
      "nwname  ckd4996hu000d3b5yksmjw2ux.jpg\n",
      "90\n"
     ]
    }
   ],
   "source": [
    "# FOR VALIDATION\n",
    "\n",
    "import os\n",
    "\n",
    "# To load images\n",
    "\n",
    "def loads_img(folder):\n",
    "    c = 0;\n",
    "    images = [];\n",
    "    filenam =[];\n",
    "    for filename in os.listdir(folder): # List all the filenames in the folde\n",
    "        print('nwname ',filename)\n",
    "        c = c + 1;\n",
    "        print(c);\n",
    "        img = cv2.imread(os.path.join(folder, filename)); \n",
    "        img = cv2.resize(img, (size,size))\n",
    "        images.append(img);\n",
    "        # if c==16:\n",
    "          # break\n",
    "        del img\n",
    "\n",
    "    return images\n",
    "\n",
    "# To load labeled gray-scaled images\n",
    "\n",
    "def loads_label_img(folder):\n",
    "    images = [];\n",
    "    c = 0;\n",
    "    for filename in os.listdir(folder): # List all the filenames in the folder\n",
    "        c = c + 1;\n",
    "        # print(c);\n",
    "        img = cv2.imread(os.path.join(folder, filename));\n",
    "       \n",
    "        images.append(img);\n",
    "        # if c==14:\n",
    "        #   break\n",
    "        del img\n",
    "        \n",
    "\n",
    "\n",
    "    return images\n",
    "\n",
    "def matplotlib_imshow(display_list):\n",
    "    for i in range(len(display_list)):\n",
    "        plt.subplot(1, len(display_list), i+1)\n",
    "        # plt.title(title[i])\n",
    "        plt.imshow(display_list[i])\n",
    "        plt.axis('off')\n",
    "    plt.show()\n",
    "\n",
    "transform_img = transforms.Compose([ \n",
    "    transforms.ToTensor()]);\n",
    "    \n",
    "\n",
    "transform_img_label = transforms.Compose([\n",
    "    transforms.ToTensor()\n",
    "]);\n",
    "\n",
    "from torch.utils.data import Dataset, DataLoader\n",
    "\n",
    "\n",
    "    \n",
    "class testsett(data.Dataset):\n",
    "    def __init__(self, transform = None, root_test = None, root_test_label = None, transform_label = None):\n",
    "        self.test_img= loads_img(root_test);\n",
    "        self.transform = transform;\n",
    "        # self.transform_label = transform_label;\n",
    "        self.test_label_img = loads_label_img(root_test_label);\n",
    "        \n",
    "    def __len__(self):\n",
    "        return len(self.test_img);\n",
    "    \n",
    "    def __getitem__(self, index):\n",
    "        img = self.transform(self.test_img[index]);\n",
    "        label = self.test_label_img[index];\n",
    "        # name = self.name[index]\n",
    "\n",
    "\n",
    "        return img, label;\n",
    "\n",
    "\n",
    "testdatasets = testsett(transform_img, 'val', 'val_labels', transform_img_label);\n",
    "\n",
    "val_loader = data.DataLoader(testdatasets, batch_size = 1, shuffle=False,  num_workers=0);"
   ]
  },
  {
   "cell_type": "code",
   "execution_count": 5,
   "metadata": {
    "ExecuteTime": {
     "end_time": "2021-09-25T14:50:19.813239Z",
     "start_time": "2021-09-25T14:50:00.339103Z"
    },
    "colab": {
     "base_uri": "https://localhost:8080/"
    },
    "id": "lHRJG3PHPrAF",
    "outputId": "ac6b95ae-682b-4db6-f19e-163848b29733"
   },
   "outputs": [
    {
     "ename": "FileNotFoundError",
     "evalue": "[WinError 3] The system cannot find the path specified: 'train'",
     "output_type": "error",
     "traceback": [
      "\u001b[1;31m---------------------------------------------------------------------------\u001b[0m",
      "\u001b[1;31mFileNotFoundError\u001b[0m                         Traceback (most recent call last)",
      "\u001b[1;32m<ipython-input-5-98da7b0d6e3c>\u001b[0m in \u001b[0;36m<module>\u001b[1;34m\u001b[0m\n\u001b[0;32m     72\u001b[0m \u001b[1;33m\u001b[0m\u001b[0m\n\u001b[0;32m     73\u001b[0m \u001b[1;33m\u001b[0m\u001b[0m\n\u001b[1;32m---> 74\u001b[1;33m \u001b[0mtraindataset\u001b[0m \u001b[1;33m=\u001b[0m \u001b[0mtrainset\u001b[0m\u001b[1;33m(\u001b[0m\u001b[0mtransform_img\u001b[0m\u001b[1;33m,\u001b[0m \u001b[1;34m'train'\u001b[0m\u001b[1;33m,\u001b[0m \u001b[1;34m'train_labels'\u001b[0m\u001b[1;33m,\u001b[0m \u001b[0mtransform_img_label\u001b[0m\u001b[1;33m)\u001b[0m\u001b[1;33m;\u001b[0m\u001b[1;33m\u001b[0m\u001b[1;33m\u001b[0m\u001b[0m\n\u001b[0m\u001b[0;32m     75\u001b[0m \u001b[0mtrain_loader\u001b[0m \u001b[1;33m=\u001b[0m \u001b[0mdata\u001b[0m\u001b[1;33m.\u001b[0m\u001b[0mDataLoader\u001b[0m\u001b[1;33m(\u001b[0m\u001b[0mtraindataset\u001b[0m\u001b[1;33m,\u001b[0m \u001b[0mbatch_size\u001b[0m \u001b[1;33m=\u001b[0m \u001b[0mbatch\u001b[0m\u001b[1;33m,\u001b[0m \u001b[0mshuffle\u001b[0m\u001b[1;33m=\u001b[0m\u001b[1;32mTrue\u001b[0m\u001b[1;33m,\u001b[0m  \u001b[0mnum_workers\u001b[0m\u001b[1;33m=\u001b[0m\u001b[1;36m0\u001b[0m\u001b[1;33m)\u001b[0m\u001b[1;33m;\u001b[0m\u001b[1;33m\u001b[0m\u001b[1;33m\u001b[0m\u001b[0m\n",
      "\u001b[1;32m<ipython-input-5-98da7b0d6e3c>\u001b[0m in \u001b[0;36m__init__\u001b[1;34m(self, transform, root_train, root_train_label, transform_label)\u001b[0m\n\u001b[0;32m     21\u001b[0m \u001b[1;32mclass\u001b[0m \u001b[0mtrainset\u001b[0m\u001b[1;33m(\u001b[0m\u001b[0mdata\u001b[0m\u001b[1;33m.\u001b[0m\u001b[0mDataset\u001b[0m\u001b[1;33m)\u001b[0m\u001b[1;33m:\u001b[0m\u001b[1;33m\u001b[0m\u001b[1;33m\u001b[0m\u001b[0m\n\u001b[0;32m     22\u001b[0m     \u001b[1;32mdef\u001b[0m \u001b[0m__init__\u001b[0m\u001b[1;33m(\u001b[0m\u001b[0mself\u001b[0m\u001b[1;33m,\u001b[0m \u001b[0mtransform\u001b[0m \u001b[1;33m=\u001b[0m \u001b[1;32mNone\u001b[0m\u001b[1;33m,\u001b[0m \u001b[0mroot_train\u001b[0m \u001b[1;33m=\u001b[0m \u001b[1;32mNone\u001b[0m\u001b[1;33m,\u001b[0m \u001b[0mroot_train_label\u001b[0m \u001b[1;33m=\u001b[0m \u001b[1;32mNone\u001b[0m\u001b[1;33m,\u001b[0m \u001b[0mtransform_label\u001b[0m \u001b[1;33m=\u001b[0m \u001b[1;32mNone\u001b[0m\u001b[1;33m)\u001b[0m\u001b[1;33m:\u001b[0m\u001b[1;33m\u001b[0m\u001b[1;33m\u001b[0m\u001b[0m\n\u001b[1;32m---> 23\u001b[1;33m         \u001b[0mself\u001b[0m\u001b[1;33m.\u001b[0m\u001b[0mtrain_img\u001b[0m \u001b[1;33m=\u001b[0m \u001b[0mload_img\u001b[0m\u001b[1;33m(\u001b[0m\u001b[0mroot_train\u001b[0m\u001b[1;33m)\u001b[0m\u001b[1;33m;\u001b[0m\u001b[1;33m\u001b[0m\u001b[1;33m\u001b[0m\u001b[0m\n\u001b[0m\u001b[0;32m     24\u001b[0m         \u001b[0mself\u001b[0m\u001b[1;33m.\u001b[0m\u001b[0mtransform\u001b[0m \u001b[1;33m=\u001b[0m \u001b[0mtransform\u001b[0m\u001b[1;33m;\u001b[0m\u001b[1;33m\u001b[0m\u001b[1;33m\u001b[0m\u001b[0m\n\u001b[0;32m     25\u001b[0m         \u001b[0mself\u001b[0m\u001b[1;33m.\u001b[0m\u001b[0mtransform_label\u001b[0m \u001b[1;33m=\u001b[0m \u001b[0mtransform_label\u001b[0m\u001b[1;33m;\u001b[0m\u001b[1;33m\u001b[0m\u001b[1;33m\u001b[0m\u001b[0m\n",
      "\u001b[1;32m<ipython-input-2-b425718b944a>\u001b[0m in \u001b[0;36mload_img\u001b[1;34m(folder)\u001b[0m\n\u001b[0;32m      8\u001b[0m     \u001b[0mimages\u001b[0m \u001b[1;33m=\u001b[0m \u001b[1;33m[\u001b[0m\u001b[1;33m]\u001b[0m\u001b[1;33m;\u001b[0m\u001b[1;33m\u001b[0m\u001b[1;33m\u001b[0m\u001b[0m\n\u001b[0;32m      9\u001b[0m     \u001b[0mfilenam\u001b[0m \u001b[1;33m=\u001b[0m\u001b[1;33m[\u001b[0m\u001b[1;33m]\u001b[0m\u001b[1;33m;\u001b[0m\u001b[1;33m\u001b[0m\u001b[1;33m\u001b[0m\u001b[0m\n\u001b[1;32m---> 10\u001b[1;33m     \u001b[1;32mfor\u001b[0m \u001b[0mfilename\u001b[0m \u001b[1;32min\u001b[0m \u001b[0mos\u001b[0m\u001b[1;33m.\u001b[0m\u001b[0mlistdir\u001b[0m\u001b[1;33m(\u001b[0m\u001b[0mfolder\u001b[0m\u001b[1;33m)\u001b[0m\u001b[1;33m:\u001b[0m \u001b[1;31m# List all the filenames in the folde\u001b[0m\u001b[1;33m\u001b[0m\u001b[1;33m\u001b[0m\u001b[0m\n\u001b[0m\u001b[0;32m     11\u001b[0m         \u001b[0mprint\u001b[0m\u001b[1;33m(\u001b[0m\u001b[1;34m'nwname '\u001b[0m\u001b[1;33m,\u001b[0m\u001b[0mfilename\u001b[0m\u001b[1;33m)\u001b[0m\u001b[1;33m\u001b[0m\u001b[1;33m\u001b[0m\u001b[0m\n\u001b[0;32m     12\u001b[0m         \u001b[0mc\u001b[0m \u001b[1;33m=\u001b[0m \u001b[0mc\u001b[0m \u001b[1;33m+\u001b[0m \u001b[1;36m1\u001b[0m\u001b[1;33m;\u001b[0m\u001b[1;33m\u001b[0m\u001b[1;33m\u001b[0m\u001b[0m\n",
      "\u001b[1;31mFileNotFoundError\u001b[0m: [WinError 3] The system cannot find the path specified: 'train'"
     ]
    }
   ],
   "source": [
    "# Define the transformations that have to be applied on the images\n",
    "def matplotlib_imshow(display_list):\n",
    "    for i in range(len(display_list)):\n",
    "        plt.subplot(1, len(display_list), i+1)\n",
    "        plt.imshow(display_list[i])\n",
    "        plt.axis('off')\n",
    "    plt.show()\n",
    "\n",
    "transform_img = transforms.Compose([ \n",
    "    transforms.ToTensor()]);\n",
    "    \n",
    "\n",
    "transform_img_label = transforms.Compose([\n",
    "    transforms.ToTensor()\n",
    "]);\n",
    "\n",
    "from torch.utils.data import Dataset, DataLoader\n",
    "\n",
    "# We have to create custom classes in order to use the DataLoader. These classes inherit the Dataset class\n",
    "\n",
    "class trainset(data.Dataset):\n",
    "    def __init__(self, transform = None, root_train = None, root_train_label = None, transform_label = None):\n",
    "        self.train_img = load_img(root_train);\n",
    "        self.transform = transform;\n",
    "        self.transform_label = transform_label;\n",
    "        self.train_label_img = label_img_list(load_label_img(root_train_label));\n",
    "        \n",
    "    def __len__(self):\n",
    "        return len(self.train_img);\n",
    "    \n",
    "    def __getitem__(self, index):\n",
    "        img = self.transform(self.train_img[index]);\n",
    "        label = self.transform_label(self.train_label_img[index]);\n",
    "        # print(index)\n",
    "        return img, label;\n",
    "\n",
    "class valset(data.Dataset):\n",
    "    def __init__(self, transform = None, root_val = None, root_val_label = None, transform_label = None):\n",
    "        self.val_img = load_img(root_val);\n",
    "        self.transform = transform;\n",
    "        self.transform_label = transform_label;\n",
    "        self.val_label_img = label_img_list(load_label_img(root_val_label));\n",
    "        \n",
    "    def __len__(self):\n",
    "        return len(self.val_img);\n",
    "    \n",
    "    def __getitem__(self, index):\n",
    "        img = self.transform(self.val_img[index]);\n",
    "        label = self.transform_label(self.val_label_img[index]);\n",
    "        \n",
    "\n",
    "        return img, label;\n",
    "\n",
    "    \n",
    "class testset(data.Dataset):\n",
    "    def __init__(self, transform = None, root_test = None, root_test_label = None, transform_label = None):\n",
    "        self.test_img= load_img(root_test);\n",
    "        self.transform = transform;\n",
    "        self.transform_label = transform_label;\n",
    "        self.test_label_img = label_img_list(load_label_img(root_test_label));\n",
    "        \n",
    "    def __len__(self):\n",
    "        return len(self.test_img);\n",
    "    \n",
    "    def __getitem__(self, index):\n",
    "        img = self.transform(self.test_img[index]);\n",
    "        label = self.transform_label(self.test_label_img[index]);\n",
    "        # name = self.name[index]\n",
    "\n",
    "\n",
    "        return img, label;\n",
    "\n",
    "\n",
    "traindataset = trainset(transform_img, 'train', 'train_labels', transform_img_label);\n",
    "train_loader = data.DataLoader(traindataset, batch_size = batch, shuffle=True,  num_workers=0);"
   ]
  },
  {
   "cell_type": "markdown",
   "metadata": {},
   "source": [
    "# Model "
   ]
  },
  {
   "cell_type": "code",
   "execution_count": 6,
   "metadata": {
    "ExecuteTime": {
     "end_time": "2021-09-25T14:50:20.067574Z",
     "start_time": "2021-09-25T14:50:20.037652Z"
    },
    "id": "mHi1BGUiIQIZ"
   },
   "outputs": [],
   "source": [
    "import torch\n",
    "from torch import nn\n",
    "from torch.nn import functional as F\n",
    "\n",
    "from numpy.linalg import svd\n",
    "from numpy.random import normal\n",
    "from math import sqrt\n",
    "import torchvision.models as models\n",
    "\n",
    "import torch\n",
    "import torch.nn as nn\n",
    "import torch.nn.functional as F\n",
    "from network.utils import IntermediateLayerGetter\n",
    "from network._deeplab import DeepLabHead, DeepLabHeadV3Plus, DeepLabV3\n",
    "from network.backbone import resnet\n",
    "from network.backbone import mobilenetv2\n",
    "\n",
    "def _segm_resnet(name, backbone_name, num_classes, output_stride, pretrained_backbone):\n",
    "\n",
    "    if output_stride==8:\n",
    "        replace_stride_with_dilation=[False, True, True]\n",
    "        aspp_dilate = [12, 24, 36]\n",
    "    else:\n",
    "        replace_stride_with_dilation=[False, False, True]\n",
    "        aspp_dilate = [6, 12, 18]\n",
    "\n",
    "    backbone = resnet.__dict__[backbone_name](\n",
    "        pretrained=pretrained_backbone,\n",
    "        replace_stride_with_dilation=replace_stride_with_dilation)\n",
    "    \n",
    "    inplanes = 2048\n",
    "    low_level_planes = 256\n",
    "\n",
    "    if name=='deeplabv3plus':\n",
    "        return_layers = {'layer4': 'out', 'layer1': 'low_level'}\n",
    "        classifier = DeepLabHeadV3Plus(inplanes, low_level_planes, num_classes, aspp_dilate)\n",
    "    elif name=='deeplabv3':\n",
    "        return_layers = {'layer4': 'out'}\n",
    "        classifier = DeepLabHead(inplanes , num_classes, aspp_dilate)\n",
    "    backbone = IntermediateLayerGetter(backbone, return_layers=return_layers)\n",
    "\n",
    "    model = DeepLabV3(backbone, classifier)\n",
    "    return model\n",
    "\n",
    "def _segm_mobilenet(name, backbone_name, num_classes, output_stride, pretrained_backbone):\n",
    "    if output_stride==8:\n",
    "        aspp_dilate = [12, 24, 36]\n",
    "    else:\n",
    "        aspp_dilate = [6, 12, 18]\n",
    "\n",
    "    backbone = mobilenetv2.mobilenet_v2(pretrained=pretrained_backbone, output_stride=output_stride)\n",
    "    \n",
    "    # rename layers\n",
    "    backbone.low_level_features = backbone.features[0:4]\n",
    "    backbone.high_level_features = backbone.features[4:-1]\n",
    "    backbone.features = None\n",
    "    backbone.classifier = None\n",
    "\n",
    "    inplanes = 320\n",
    "    low_level_planes = 24\n",
    "    \n",
    "    if name=='deeplabv3plus':\n",
    "        return_layers = {'high_level_features': 'out', 'low_level_features': 'low_level'}\n",
    "        classifier = DeepLabHeadV3Plus(inplanes, low_level_planes, num_classes, aspp_dilate)\n",
    "    elif name=='deeplabv3':\n",
    "        return_layers = {'high_level_features': 'out'}\n",
    "        classifier = DeepLabHead(inplanes , num_classes, aspp_dilate)\n",
    "    backbone = IntermediateLayerGetter(backbone, return_layers=return_layers)\n",
    "\n",
    "    model = DeepLabV3(backbone, classifier)\n",
    "    return model\n",
    "\n",
    "def _load_model(arch_type, backbone, num_classes, output_stride, pretrained_backbone):\n",
    "\n",
    "    if backbone=='mobilenetv2':\n",
    "        model = _segm_mobilenet(arch_type, backbone, num_classes, output_stride=output_stride, pretrained_backbone=pretrained_backbone)\n",
    "    elif backbone.startswith('resnet'):\n",
    "        model = _segm_resnet(arch_type, backbone, num_classes, output_stride=output_stride, pretrained_backbone=pretrained_backbone)\n",
    "    else:\n",
    "        raise NotImplementedError\n",
    "    return model\n",
    "\n",
    "\n",
    "# Deeplab v3\n",
    "\n",
    "def deeplabv3_resnet50(num_classes=21, output_stride=8, pretrained_backbone=True):\n",
    "    \"\"\"Constructs a DeepLabV3 model with a ResNet-50 backbone.\n",
    "    Args:\n",
    "        num_classes (int): number of classes.\n",
    "        output_stride (int): output stride for deeplab.\n",
    "        pretrained_backbone (bool): If True, use the pretrained backbone.\n",
    "    \"\"\"\n",
    "    return _load_model('deeplabv3', 'resnet50', num_classes, output_stride=output_stride, pretrained_backbone=pretrained_backbone)\n",
    "\n",
    "def deeplabv3_resnet101(num_classes=21, output_stride=8, pretrained_backbone=True):\n",
    "    \"\"\"Constructs a DeepLabV3 model with a ResNet-101 backbone.\n",
    "    Args:\n",
    "        num_classes (int): number of classes.\n",
    "        output_stride (int): output stride for deeplab.\n",
    "        pretrained_backbone (bool): If True, use the pretrained backbone.\n",
    "    \"\"\"\n",
    "    return _load_model('deeplabv3', 'resnet101', num_classes, output_stride=output_stride, pretrained_backbone=pretrained_backbone)\n",
    "\n",
    "def deeplabv3_mobilenet(num_classes=21, output_stride=8, pretrained_backbone=True, **kwargs):\n",
    "    \"\"\"Constructs a DeepLabV3 model with a MobileNetv2 backbone.\n",
    "    Args:\n",
    "        num_classes (int): number of classes.\n",
    "        output_stride (int): output stride for deeplab.\n",
    "        pretrained_backbone (bool): If True, use the pretrained backbone.\n",
    "    \"\"\"\n",
    "    return _load_model('deeplabv3', 'mobilenetv2', num_classes, output_stride=output_stride, pretrained_backbone=pretrained_backbone)\n",
    "\n",
    "\n",
    "# Deeplab v3+\n",
    "\n",
    "def deeplabv3plus_resnet50(num_classes=23, output_stride=2, pretrained_backbone=True):\n",
    "    \"\"\"Constructs a DeepLabV3 model with a ResNet-50 backbone.\n",
    "    Args:\n",
    "        num_classes (int): number of classes.\n",
    "        output_stride (int): output stride for deeplab.\n",
    "        pretrained_backbone (bool): If True, use the pretrained backbone.\n",
    "    \"\"\"\n",
    "    return _load_model('deeplabv3plus', 'resnet50', num_classes, output_stride=output_stride, pretrained_backbone=pretrained_backbone)\n",
    "\n",
    "\n",
    "def deeplabv3plus_resnet101(num_classes=21, output_stride=8, pretrained_backbone=True):\n",
    "    \"\"\"Constructs a DeepLabV3+ model with a ResNet-101 backbone.\n",
    "    Args:\n",
    "        num_classes (int): number of classes.\n",
    "        output_stride (int): output stride for deeplab.\n",
    "        pretrained_backbone (bool): If True, use the pretrained backbone.\n",
    "    \"\"\"\n",
    "    return _load_model('deeplabv3plus', 'resnet101', num_classes, output_stride=output_stride, pretrained_backbone=pretrained_backbone)\n",
    "\n",
    "\n",
    "def deeplabv3plus_mobilenet(num_classes=21, output_stride=8, pretrained_backbone=True):\n",
    "    \"\"\"Constructs a DeepLabV3+ model with a MobileNetv2 backbone.\n",
    "    Args:\n",
    "        num_classes (int): number of classes.\n",
    "        output_stride (int): output stride for deeplab.\n",
    "        pretrained_backbone (bool): If True, use the pretrained backbone.\n",
    "    \"\"\"\n",
    "    return _load_model('deeplabv3plus', 'mobilenetv2', num_classes, output_stride=output_stride, pretrained_backbone=pretrained_backbone)\n"
   ]
  },
  {
   "cell_type": "code",
   "execution_count": 8,
   "metadata": {
    "ExecuteTime": {
     "end_time": "2021-09-25T14:50:23.561335Z",
     "start_time": "2021-09-25T14:50:20.131879Z"
    },
    "colab": {
     "base_uri": "https://localhost:8080/"
    },
    "id": "HAcRwE_PQJYq",
    "outputId": "26acd2a8-ecea-4b5a-be02-92397b1e1717"
   },
   "outputs": [
    {
     "name": "stdout",
     "output_type": "stream",
     "text": [
      "cuda:0\n"
     ]
    },
    {
     "data": {
      "text/plain": [
       "<All keys matched successfully>"
      ]
     },
     "execution_count": 8,
     "metadata": {},
     "output_type": "execute_result"
    }
   ],
   "source": [
    "device = torch.device(\"cuda:0\" if torch.cuda.is_available() else \"cpu\");\n",
    "print(device)\n",
    "UNET = deeplabv3plus_resnet101(num_classes=2, output_stride=2, pretrained_backbone=True)\n",
    "UNET.to(device);\n",
    "\n",
    "# weightsInit(UNET)\n",
    "PATH = 'weights/chal2.pth';\n",
    "UNET.load_state_dict(torch.load(PATH))\n",
    "# !zip -r /content/file.zip /content/test_input_data"
   ]
  },
  {
   "cell_type": "markdown",
   "metadata": {},
   "source": [
    "# Utils"
   ]
  },
  {
   "cell_type": "code",
   "execution_count": 9,
   "metadata": {
    "ExecuteTime": {
     "end_time": "2021-09-25T14:50:23.671040Z",
     "start_time": "2021-09-25T14:50:23.657078Z"
    },
    "id": "4UJZb9eCnI8M"
   },
   "outputs": [],
   "source": [
    "colors = [];\n",
    "colors.append(np.array([0, 0, 0], dtype = 'uint8'));\n",
    "colors.append(np.array([255, 255, 255], dtype = 'uint8'));\n",
    "\n",
    "ClassesColors = {\n",
    "    (0,0,0): 0 ,\n",
    "     (255,255,255): 1\n",
    "            \n",
    "    }\n",
    "\n",
    "import numpy as np\n",
    "\n",
    "color_mapping = {\n",
    "     0 : [0,0,0], \n",
    "     1 : [255,255,255]\n",
    "}\n",
    "    \n",
    "\n",
    "def visualize_prediction(prediction):\n",
    "    color_image = np.zeros((prediction.shape[0], prediction.shape[1], 3))\n",
    "    for color_id in color_mapping.keys():\n",
    "        color_image[prediction == color_id] = color_mapping[color_id]\n",
    "    return color_image.astype(np.uint8)\n",
    "\n",
    "\n",
    "def corr(x): # To get proper correspondence between the outputs and the labels\n",
    "    x = x.cpu();\n",
    "    x = x.detach().numpy(); # Detach() was used as one can't convert a pytorch tensor to a numpy array if\n",
    "    # required_grad is set True for that variable\n",
    "    x = x.argmax(axis = 1);\n",
    "    return x;\n",
    "\n",
    "import numpy as np\n",
    "\n",
    "color_mapping = {\n",
    "     0 : [0,0,0], \n",
    "     1 : [255,255,255]\n",
    "}\n",
    "\n",
    "    \n",
    "def class_pixel(label_img):\n",
    "    aa,bb = label_img.shape\n",
    "    \n",
    "    class_pix = np.ones([aa, bb, 1], dtype = int);\n",
    "    for index, c in enumerate(colors):\n",
    "        \n",
    "        if index==0:\n",
    "          class_pix[label_img <=122] = index; \n",
    "        else:\n",
    "          class_pix[label_img >=123] = index; \n",
    "    return class_pix"
   ]
  },
  {
   "cell_type": "markdown",
   "metadata": {
    "ExecuteTime": {
     "end_time": "2021-09-25T14:50:23.765002Z",
     "start_time": "2021-09-25T14:50:23.750826Z"
    },
    "id": "ZDBnT5Z2QTwP"
   },
   "source": [
    "# Loss Function"
   ]
  },
  {
   "cell_type": "code",
   "execution_count": 10,
   "metadata": {
    "ExecuteTime": {
     "end_time": "2021-09-25T14:50:23.875237Z",
     "start_time": "2021-09-25T14:50:23.847464Z"
    },
    "id": "c7gHHMYhow3P"
   },
   "outputs": [],
   "source": [
    "criterion = nn.CrossEntropyLoss().to(device);\n",
    "optimizer = optim.Adam(UNET.parameters(),lr=0.0001 );\n",
    "scheduler = optim.lr_scheduler.StepLR(optimizer, step_size=3, gamma=0.95)"
   ]
  },
  {
   "cell_type": "markdown",
   "metadata": {},
   "source": [
    "# Training\n"
   ]
  },
  {
   "cell_type": "code",
   "execution_count": null,
   "metadata": {
    "ExecuteTime": {
     "end_time": "2021-09-25T14:10:04.413042Z",
     "start_time": "2021-09-25T14:09:21.291786Z"
    },
    "colab": {
     "base_uri": "https://localhost:8080/"
    },
    "id": "d5tg5vqBQa3p",
    "outputId": "f938d9dd-c3ab-416b-ca49-c4320ff238d8",
    "scrolled": true
   },
   "outputs": [],
   "source": [
    "CUDA_LAUNCH_BLOCKING=1\n",
    "los=0\n",
    "kb=0\n",
    "km=1\n",
    "os.environ['CUDA_VISIBLE_DEVICES'] = '0'\n",
    "init=85\n",
    "UNET.train()\n",
    "for epoch in range(epochs):\n",
    "\n",
    "  print('epoch-                ',epoch)\n",
    "  print('prev loss-            ',(kb/6000)*batch)\n",
    "  print('final loss-           ',(los/6000)*batch)\n",
    "  kb=los\n",
    "  los=0\n",
    "  UNET.train()\n",
    "  for i, data in enumerate(train_loader):\n",
    "    inputs, labels = data;\n",
    "    \n",
    "    labels = labels.reshape(batch, size, size);\n",
    "    \n",
    "    inputs, labels = inputs.to(device), labels.to(device);\n",
    "    optimizer.zero_grad();\n",
    "    \n",
    "    output1 = UNET(inputs);\n",
    "    labels = labels.to(dtype=torch.long)\n",
    "\n",
    "    loss1 = criterion(output1, labels);\n",
    "    loss1.backward();\n",
    "    optimizer.step();\n",
    "    los+=loss1.item()\n",
    "    \n",
    "    if i%60==59:\n",
    "\n",
    "      with torch.no_grad():\n",
    "        correct = 0;\n",
    "        total = 0;\n",
    "        UNET.eval()\n",
    "        import cv2\n",
    "        def _fast_hist(label_pred, label_true, n_class):\n",
    "            mask = (label_true >= 0) & (label_true < n_class)\n",
    "            hist = np.bincount(\n",
    "                n_class * label_true[mask].astype(int) + label_pred[mask], minlength=n_class ** 2\n",
    "            ).reshape(n_class, n_class)\n",
    "            return hist\n",
    "\n",
    "\n",
    "        def evaluate(predictions, gts, num_classes):\n",
    "            hist = np.zeros((num_classes, num_classes))\n",
    "            for lp, lt in zip(predictions, gts):\n",
    "                hist += _fast_hist(lp.flatten(), lt.flatten(), num_classes)\n",
    "            \n",
    "            iu = np.diag(hist) / (hist.sum(axis=1) + hist.sum(axis=0) - np.diag(hist))\n",
    "            mean_iu = np.nanmean(iu)\n",
    "            \n",
    "            return mean_iu\n",
    "\n",
    "        for i, data in enumerate(val_loader):\n",
    "            inputs, labels = data;\n",
    "            inputs = inputs.to(device);\n",
    "\n",
    "            outputs = UNET.forward(inputs);\n",
    "            outputs = corr(outputs);\n",
    "            labels = labels.detach().numpy();\n",
    "            outputs = outputs.reshape(1, size, size);\n",
    "            correct=correct+1\n",
    "\n",
    "            color_pred=labels[0]\n",
    "            d1,a1,b1 =labels[0].shape\n",
    "            \n",
    "            color_pre=outputs\n",
    "            \n",
    "            dd,aa,bb = color_pre.shape\n",
    "            d1,a1,b1 =labels[0].shape\n",
    "\n",
    "            color_pre=np.array(color_pre).reshape(aa,bb)\n",
    "\n",
    "\n",
    "            color_pre=visualize_prediction(color_pre)\n",
    "            img = cv2.resize(color_pre, (a1,d1))\n",
    "            \n",
    "            img1 = cv2.cvtColor(img, cv2.COLOR_BGR2GRAY);\n",
    "            img2 = cv2.cvtColor(color_pred, cv2.COLOR_BGR2GRAY);\n",
    "            img1 = class_pixel(img1)\n",
    "            img2 = class_pixel(img2)\n",
    "            \n",
    "            io=evaluate(img1,img2,2)\n",
    "            total=total+io\n",
    "\n",
    "        print(\"Hence, the test set accuracy is \", (total/correct) * 100);\n",
    "        if (total/correct) * 100>init:\n",
    "          init=(total/correct) * 100\n",
    "          PATH = 'pathmax101res.pth';\n",
    "          torch.save(UNET.state_dict(),PATH); \n",
    "        print(\"Highest accuracy :\",init)        \n",
    "    \n",
    "\n",
    "\n",
    "        UNET.train()\n",
    "\n",
    "  scheduler.step()\n",
    "  print('Epoch    -    {0}    lr    :     {1}'.format(epoch, optimizer.param_groups[0]['lr']))\n",
    "  if epoch%1==0:\n",
    "\n",
    "\n",
    "\n",
    "    with torch.no_grad():\n",
    "      correct = 0;\n",
    "      total = 0;\n",
    "      UNET.eval()\n",
    "      import cv2\n",
    "      def _fast_hist(label_pred, label_true, n_class):\n",
    "          mask = (label_true >= 0) & (label_true < n_class)\n",
    "          hist = np.bincount(\n",
    "              n_class * label_true[mask].astype(int) + label_pred[mask], minlength=n_class ** 2\n",
    "          ).reshape(n_class, n_class)\n",
    "          return hist\n",
    "\n",
    "\n",
    "      def evaluate(predictions, gts, num_classes):\n",
    "          hist = np.zeros((num_classes, num_classes))\n",
    "          for lp, lt in zip(predictions, gts):\n",
    "              hist += _fast_hist(lp.flatten(), lt.flatten(), num_classes)\n",
    "          \n",
    "          iu = np.diag(hist) / (hist.sum(axis=1) + hist.sum(axis=0) - np.diag(hist))\n",
    "          mean_iu = np.nanmean(iu)\n",
    "          \n",
    "          return mean_iu\n",
    "\n",
    "      for i, data in enumerate(val_loader):\n",
    "          inputs, labels = data;\n",
    "          inputs = inputs.to(device);\n",
    "\n",
    "          outputs = UNET.forward(inputs);\n",
    "          outputs = corr(outputs);\n",
    "          labels = labels.detach().numpy();\n",
    "          outputs = outputs.reshape(1, size, size);\n",
    "          correct=correct+1\n",
    "\n",
    "          color_pred=labels[0]\n",
    "          d1,a1,b1 =labels[0].shape\n",
    "          color_pre=outputs\n",
    "          # print('shape ',color_pre.shape)\n",
    "          dd,aa,bb = color_pre.shape\n",
    "          d1,a1,b1 =labels[0].shape\n",
    "\n",
    "          color_pre=np.array(color_pre).reshape(aa,bb)\n",
    "\n",
    "\n",
    "          color_pre=visualize_prediction(color_pre)\n",
    "          img = cv2.resize(color_pre, (a1,d1))\n",
    "          \n",
    "          img1 = cv2.cvtColor(img, cv2.COLOR_BGR2GRAY);\n",
    "          img2 = cv2.cvtColor(color_pred, cv2.COLOR_BGR2GRAY);\n",
    "          img1 = class_pixel(img1)\n",
    "          img2 = class_pixel(img2)\n",
    "\n",
    "          io=evaluate(img1,img2,2)\n",
    "          total=total+io\n",
    "\n",
    "      print(\"Hence, the test set accuracy is \", (total/correct) * 100);\n",
    "      if (total/correct) * 100>init:\n",
    "          init=(total/correct) * 100\n",
    "          PATH = 'pathmax101res.pth';\n",
    "          torch.save(UNET.state_dict(),PATH); \n"
   ]
  },
  {
   "cell_type": "markdown",
   "metadata": {},
   "source": [
    "# Validation Utilities"
   ]
  },
  {
   "cell_type": "code",
   "execution_count": 11,
   "metadata": {
    "ExecuteTime": {
     "end_time": "2021-09-25T14:55:06.527795Z",
     "start_time": "2021-09-25T14:55:06.474909Z"
    }
   },
   "outputs": [],
   "source": [
    "\n",
    "def class_pixel(label_img):\n",
    "    # print(label_img.shape)\n",
    "    \n",
    "    aa,bb = label_img.shape\n",
    "    \n",
    "    class_pix = np.ones([aa, bb, 1], dtype = int);\n",
    "    for index, c in enumerate(colors):\n",
    "        if index==0:\n",
    "          class_pix[label_img <=122] = index; \n",
    "        else:\n",
    "          class_pix[label_img >=123] = index; \n",
    "    return class_pix\n",
    "\n",
    "import numpy as np\n",
    "np.seterr(divide='ignore', invalid='ignore')\n",
    "__all__ = ['SegmentationMetric']\n",
    "\n",
    "\"\"\"\n",
    "confusionMetric  # 注意：此处横着代表预测值，竖着代表真实值，与之前介绍的相反\n",
    "P\\L     P    N\n",
    "P      TP    FP\n",
    "N      FN    TN\n",
    "sum(axis=0) TP+FN\n",
    "sum(axis=1) TP+FP\n",
    "np.diag().sum() TP+TN\n",
    "\"\"\"\n",
    "class SegmentationMetric(object):\n",
    "    def __init__(self, numClass):\n",
    "        self.numClass = numClass\n",
    "        self.confusionMatrix = np.zeros((self.numClass,)*2)\n",
    "\n",
    "    def pixelAccuracy(self):\n",
    "        # return all class overall pixel accuracy\n",
    "        #  PA = acc = (TP + TN) / (TP + TN + FP + FN)\n",
    "        acc = np.diag(self.confusionMatrix).sum() /  self.confusionMatrix.sum()\n",
    "        return acc\n",
    "\n",
    "    def meanPixelAccuracy(self):\n",
    "        # return each category pixel accuracy(A more accurate way to call it precision)\n",
    "        # acc = TP / (TP + FP)\n",
    "        Cpa = np.diag(self.confusionMatrix) / self.confusionMatrix.sum(axis=1)\n",
    "        Mpa = np.nanmean(Cpa)  \n",
    "        return Mpa, Cpa\n",
    "\n",
    "\n",
    "    def meanIntersectionOverUnion(self):\n",
    "        # Intersection = TP ;Union = TP + FP + FN\n",
    "        # Ciou = TP / (TP + FP + FN)\n",
    "        intersection = np.diag(self.confusionMatrix)\n",
    "        union = np.sum(self.confusionMatrix, axis=1) + np.sum(self.confusionMatrix, axis=0) - np.diag(self.confusionMatrix) # axis = 1表示混淆矩阵行的值，返回列表； axis = 0表示取混淆矩阵列的值，返回列表\n",
    "\n",
    "        Ciou = (intersection / np.maximum(1.0, union))   \n",
    "        mIoU = np.nanmean(Ciou)  \n",
    "        return mIoU, Ciou\n",
    "\n",
    "    def Frequency_Weighted_Intersection_over_Union(self):\n",
    "        # FWIOU =     [(TP+FN)/(TP+FP+TN+FN)] *[TP / (TP + FP + FN)]\n",
    "        freq = np.sum(self.confusionMatrix, axis=1) / np.sum(self.confusionMatrix)\n",
    "        iu = np.diag(self.confusionMatrix) / (\n",
    "                np.sum(self.confusionMatrix, axis=1) + np.sum(self.confusionMatrix, axis=0) -\n",
    "                np.diag(self.confusionMatrix))\n",
    "        FWIoU = (freq[freq > 0] * iu[freq > 0]).sum()\n",
    "        return FWIoU\n",
    "\n",
    "    def precision(self):\n",
    "        # precision = TP / (TP+FP)\n",
    "        precision = np.diag(self.confusionMatrix) / np.sum(self.confusionMatrix, axis=1)\n",
    "        return precision\n",
    "\n",
    "    def recall(self):\n",
    "        # recall = TP / (TP+FN)\n",
    "        recall = np.diag(self.confusionMatrix) / np.sum(self.confusionMatrix, axis=0)\n",
    "        return recall\n",
    "\n",
    "    def genConfusionMatrix(self, imgPredict, imgLabel):\n",
    "        # remove classes from unlabeled pixels in gt image and predict\n",
    "        mask = (imgLabel >= 0) & (imgLabel < self.numClass)\n",
    "        label = self.numClass * imgLabel[mask].astype('int') + imgPredict[mask]\n",
    "        count = np.bincount(label, minlength=self.numClass**2)\n",
    "        confusionMatrix = count.reshape(self.numClass, self.numClass)\n",
    "        return confusionMatrix\n",
    "\n",
    "    def addBatch(self, imgPredict, imgLabel):\n",
    "        assert imgPredict.shape == imgLabel.shape\n",
    "        self.confusionMatrix += self.genConfusionMatrix(imgPredict, imgLabel)\n",
    "\n",
    "    def reset(self):\n",
    "        self.confusionMatrix = np.zeros((self.numClass, self.numClass))\n",
    "\n",
    "if __name__ == '__main__':\n",
    "    imgPredict = np.array([0, 0, 0, 0])\n",
    "    imgLabel = np.array([0, 0, 0, 0]) \n",
    "    metric = SegmentationMetric(2) \n",
    "    metric.addBatch(imgPredict, imgLabel)\n",
    "    pa = metric.pixelAccuracy()\n",
    "    cpa = metric.recall()[0]\n",
    "    pre = metric.precision()[0]\n",
    "    mpa = metric.meanPixelAccuracy()\n",
    "    mIoU, per = metric.meanIntersectionOverUnion()\n",
    "\n",
    "EPS = 1e-10\n",
    "def nanmean(x):\n",
    "    \"\"\"Computes the arithmetic mean ignoring any NaNs.\"\"\"\n",
    "    return torch.mean(x[x == x])\n",
    "def _fast_hist(true, pred, num_classes):\n",
    "    mask = (true >= 0) & (true < num_classes)\n",
    "    hist = torch.bincount(\n",
    "        num_classes * true[mask] + pred[mask],\n",
    "        minlength=num_classes ** 2,\n",
    "    ).reshape(num_classes, num_classes).float()\n",
    "    return hist\n",
    "def dice_coefficient(hist):\n",
    "    \"\"\"Computes the Sørensen–Dice coefficient, a.k.a the F1 score.\n",
    "    Args:\n",
    "        hist: confusion matrix.\n",
    "    Returns:\n",
    "        avg_dice: the average per-class dice coefficient.\n",
    "    \"\"\"\n",
    "    A_inter_B = torch.diag(hist)\n",
    "    A = hist.sum(dim=1)\n",
    "    B = hist.sum(dim=0)\n",
    "    dice = (2 * A_inter_B) / (A + B + EPS)\n",
    "    avg_dice = nanmean(dice)\n",
    "    return avg_dice\n",
    "\n",
    "\n",
    "def eval_metrics(true, pred, num_classes):\n",
    "    \"\"\"Computes various segmentation metrics on 2D feature maps.\n",
    "    Args:\n",
    "        true: a tensor of shape [B, H, W] or [B, 1, H, W].\n",
    "        pred: a tensor of shape [B, H, W] or [B, 1, H, W].\n",
    "        num_classes: the number of classes to segment. This number\n",
    "            should be less than the ID of the ignored class.\n",
    "    Returns:\n",
    "        overall_acc: the overall pixel accuracy.\n",
    "        avg_per_class_acc: the average per-class pixel accuracy.\n",
    "        avg_jacc: the jaccard index.\n",
    "        avg_dice: the dice coefficient.\n",
    "    \"\"\"\n",
    "    hist = torch.zeros((num_classes, num_classes))\n",
    "    for t, p in zip(true, pred):\n",
    "        hist += _fast_hist(t.flatten(), p.flatten(), num_classes)\n",
    "    \n",
    "    avg_dice = dice_coefficient(hist)\n",
    "    return avg_dice\n"
   ]
  },
  {
   "cell_type": "markdown",
   "metadata": {},
   "source": [
    "# Validation"
   ]
  },
  {
   "cell_type": "code",
   "execution_count": null,
   "metadata": {
    "ExecuteTime": {
     "end_time": "2021-09-25T14:58:46.080425Z",
     "start_time": "2021-09-25T14:58:15.359056Z"
    }
   },
   "outputs": [
    {
     "name": "stdout",
     "output_type": "stream",
     "text": [
      "   0\n"
     ]
    },
    {
     "name": "stderr",
     "output_type": "stream",
     "text": [
      "C:\\Users\\ASUS\\anaconda3\\lib\\site-packages\\torch\\nn\\functional.py:718: UserWarning: Named tensors and all their associated APIs are an experimental feature and subject to change. Please do not use them for anything important until they are released as stable. (Triggered internally at  ..\\c10/core/TensorImpl.h:1156.)\n",
      "  return torch.max_pool2d(input, kernel_size, stride, padding, dilation, ceil_mode)\n"
     ]
    },
    {
     "data": {
      "image/png": "[encoded data removed]",
      "text/plain": [
       "<Figure size 432x288 with 2 Axes>"
      ]
     },
     "metadata": {
      "needs_background": "light"
     },
     "output_type": "display_data"
    },
    {
     "name": "stdout",
     "output_type": "stream",
     "text": [
      "   pixel acc is : 0.995355\n",
      "   mIoU is : 0.965331\n",
      "   mIoU (2nd code) is : 0.965331\n",
      "   recall:  0.9995689371744197\n",
      "   precision:  0.9954452189350834\n",
      "   F2 score:  0.9987414625314999\n",
      "dice coeff:  tensor(0.9821, dtype=torch.float64)\n",
      "   1\n"
     ]
    },
    {
     "data": {
      "image/png": "[encoded data removed]",
      "text/plain": [
       "<Figure size 432x288 with 2 Axes>"
      ]
     },
     "metadata": {
      "needs_background": "light"
     },
     "output_type": "display_data"
    },
    {
     "name": "stdout",
     "output_type": "stream",
     "text": [
      "   pixel acc is : 0.997555\n",
      "   mIoU is : 0.963455\n",
      "   mIoU (2nd code) is : 0.963455\n",
      "   recall:  0.99993506104262\n",
      "   precision:  0.9975382346052455\n",
      "   F2 score:  0.9994547747650592\n",
      "dice coeff:  tensor(0.9811, dtype=torch.float64)\n",
      "   2\n"
     ]
    },
    {
     "data": {
      "image/png": "[encoded data removed]",
      "text/plain": [
       "<Figure size 432x288 with 2 Axes>"
      ]
     },
     "metadata": {
      "needs_background": "light"
     },
     "output_type": "display_data"
    },
    {
     "name": "stdout",
     "output_type": "stream",
     "text": [
      "   pixel acc is : 0.997131\n",
      "   mIoU is : 0.948270\n",
      "   mIoU (2nd code) is : 0.948270\n",
      "   recall:  0.9999801434141911\n",
      "   precision:  0.9970747135966421\n",
      "   F2 score:  0.9993977036334745\n",
      "dice coeff:  tensor(0.9728, dtype=torch.float64)\n",
      "   3\n"
     ]
    },
    {
     "data": {
      "image/png": "[encoded data removed]",
      "text/plain": [
       "<Figure size 432x288 with 2 Axes>"
      ]
     },
     "metadata": {
      "needs_background": "light"
     },
     "output_type": "display_data"
    },
    {
     "name": "stdout",
     "output_type": "stream",
     "text": [
      "   pixel acc is : 0.995459\n",
      "   mIoU is : 0.962216\n",
      "   mIoU (2nd code) is : 0.962216\n",
      "   recall:  0.9988182058231316\n",
      "   precision:  0.996344139899067\n",
      "   F2 score:  0.9983224101723461\n",
      "dice coeff:  tensor(0.9805, dtype=torch.float64)\n",
      "   4\n"
     ]
    },
    {
     "data": {
      "image/png": "[encoded data removed]",
      "text/plain": [
       "<Figure size 432x288 with 2 Axes>"
      ]
     },
     "metadata": {
      "needs_background": "light"
     },
     "output_type": "display_data"
    },
    {
     "name": "stdout",
     "output_type": "stream",
     "text": [
      "   pixel acc is : 0.997837\n",
      "   mIoU is : 0.964576\n",
      "   mIoU (2nd code) is : 0.964576\n",
      "   recall:  0.9999502076341655\n",
      "   precision:  0.997821253338302\n",
      "   F2 score:  0.9995236903101088\n",
      "dice coeff:  tensor(0.9817, dtype=torch.float64)\n",
      "   5\n"
     ]
    },
    {
     "data": {
      "image/png": "[encoded data removed]",
      "text/plain": [
       "<Figure size 432x288 with 2 Axes>"
      ]
     },
     "metadata": {
      "needs_background": "light"
     },
     "output_type": "display_data"
    },
    {
     "name": "stdout",
     "output_type": "stream",
     "text": [
      "   pixel acc is : 0.987148\n",
      "   mIoU is : 0.940569\n",
      "   mIoU (2nd code) is : 0.940569\n",
      "   recall:  0.9992773494386407\n",
      "   precision:  0.9862586849341817\n",
      "   F2 score:  0.9966461934103373\n",
      "dice coeff:  tensor(0.9688, dtype=torch.float64)\n",
      "   6\n"
     ]
    },
    {
     "data": {
      "image/png": "[encoded data removed]",
      "text/plain": [
       "<Figure size 432x288 with 2 Axes>"
      ]
     },
     "metadata": {
      "needs_background": "light"
     },
     "output_type": "display_data"
    },
    {
     "name": "stdout",
     "output_type": "stream",
     "text": [
      "   pixel acc is : 0.986975\n",
      "   mIoU is : 0.930674\n",
      "   mIoU (2nd code) is : 0.930674\n",
      "   recall:  0.9946976784161794\n",
      "   precision:  0.9908653545355458\n",
      "   F2 score:  0.9939288439369366\n",
      "dice coeff:  tensor(0.9633, dtype=torch.float64)\n",
      "   7\n"
     ]
    },
    {
     "data": {
      "image/png": "[encoded data removed]",
      "text/plain": [
       "<Figure size 432x288 with 2 Axes>"
      ]
     },
     "metadata": {
      "needs_background": "light"
     },
     "output_type": "display_data"
    },
    {
     "name": "stdout",
     "output_type": "stream",
     "text": [
      "   pixel acc is : 0.996323\n",
      "   mIoU is : 0.942110\n",
      "   mIoU (2nd code) is : 0.942110\n",
      "   recall:  0.9976495343839542\n",
      "   precision:  0.9985560753131201\n",
      "   F2 score:  0.9978307108651036\n",
      "dice coeff:  tensor(0.9694, dtype=torch.float64)\n",
      "   8\n"
     ]
    },
    {
     "data": {
      "image/png": "[encoded data removed]",
      "text/plain": [
       "<Figure size 432x288 with 2 Axes>"
      ]
     },
     "metadata": {
      "needs_background": "light"
     },
     "output_type": "display_data"
    },
    {
     "name": "stdout",
     "output_type": "stream",
     "text": [
      "   pixel acc is : 0.997174\n",
      "   mIoU is : 0.953552\n",
      "   mIoU (2nd code) is : 0.953552\n",
      "   recall:  0.9996914041112936\n",
      "   precision:  0.9973978507438969\n",
      "   F2 score:  0.9992318499679607\n",
      "dice coeff:  tensor(0.9757, dtype=torch.float64)\n",
      "   9\n"
     ]
    },
    {
     "data": {
      "image/png": "[encoded data removed]",
      "text/plain": [
       "<Figure size 432x288 with 2 Axes>"
      ]
     },
     "metadata": {
      "needs_background": "light"
     },
     "output_type": "display_data"
    },
    {
     "name": "stdout",
     "output_type": "stream",
     "text": [
      "   pixel acc is : 0.991519\n",
      "   mIoU is : 0.937209\n",
      "   mIoU (2nd code) is : 0.937209\n",
      "   recall:  0.9940982745263333\n",
      "   precision:  0.9968004024052045\n",
      "   F2 score:  0.9946375274772515\n",
      "dice coeff:  tensor(0.9668, dtype=torch.float64)\n",
      "   10\n"
     ]
    },
    {
     "data": {
      "image/png": "[encoded data removed]",
      "text/plain": [
       "<Figure size 432x288 with 2 Axes>"
      ]
     },
     "metadata": {
      "needs_background": "light"
     },
     "output_type": "display_data"
    },
    {
     "name": "stdout",
     "output_type": "stream",
     "text": [
      "   pixel acc is : 0.997226\n",
      "   mIoU is : 0.974502\n",
      "   mIoU (2nd code) is : 0.974502\n",
      "   recall:  0.9989479410559412\n",
      "   precision:  0.9981131442965716\n",
      "   F2 score:  0.9987808700102648\n",
      "dice coeff:  tensor(0.9870, dtype=torch.float64)\n",
      "   11\n"
     ]
    },
    {
     "data": {
      "image/png": "[encoded data removed]",
      "text/plain": [
       "<Figure size 432x288 with 2 Axes>"
      ]
     },
     "metadata": {
      "needs_background": "light"
     },
     "output_type": "display_data"
    },
    {
     "name": "stdout",
     "output_type": "stream",
     "text": [
      "   pixel acc is : 0.997380\n",
      "   mIoU is : 0.956095\n",
      "   mIoU (2nd code) is : 0.956095\n",
      "   recall:  0.9995360764657886\n",
      "   precision:  0.9977659403645706\n",
      "   F2 score:  0.9991815469601415\n",
      "dice coeff:  tensor(0.9771, dtype=torch.float64)\n",
      "   12\n"
     ]
    },
    {
     "data": {
      "image/png": "[encoded data removed]",
      "text/plain": [
       "<Figure size 432x288 with 2 Axes>"
      ]
     },
     "metadata": {
      "needs_background": "light"
     },
     "output_type": "display_data"
    },
    {
     "name": "stdout",
     "output_type": "stream",
     "text": [
      "   pixel acc is : 0.996960\n",
      "   mIoU is : 0.953164\n",
      "   mIoU (2nd code) is : 0.953164\n",
      "   recall:  0.9996235441563999\n",
      "   precision:  0.9972381361151026\n",
      "   F2 score:  0.9991455500358047\n",
      "dice coeff:  tensor(0.9755, dtype=torch.float64)\n",
      "   13\n"
     ]
    },
    {
     "data": {
      "image/png": "[encoded data removed]",
      "text/plain": [
       "<Figure size 432x288 with 2 Axes>"
      ]
     },
     "metadata": {
      "needs_background": "light"
     },
     "output_type": "display_data"
    },
    {
     "name": "stdout",
     "output_type": "stream",
     "text": [
      "   pixel acc is : 0.976802\n",
      "   mIoU is : 0.895724\n",
      "   mIoU (2nd code) is : 0.895724\n",
      "   recall:  0.9821787939771598\n",
      "   precision:  0.9916417785176223\n",
      "   F2 score:  0.9840569148013188\n",
      "dice coeff:  tensor(0.9432, dtype=torch.float64)\n",
      "   14\n"
     ]
    },
    {
     "data": {
      "image/png": "[encoded data removed]",
      "text/plain": [
       "<Figure size 432x288 with 2 Axes>"
      ]
     },
     "metadata": {
      "needs_background": "light"
     },
     "output_type": "display_data"
    },
    {
     "name": "stdout",
     "output_type": "stream",
     "text": [
      "   pixel acc is : 0.997418\n",
      "   mIoU is : 0.956026\n",
      "   mIoU (2nd code) is : 0.956026\n",
      "   recall:  0.9996271559706\n",
      "   precision:  0.9977151164521539\n",
      "   F2 score:  0.9992441620087302\n",
      "dice coeff:  tensor(0.9771, dtype=torch.float64)\n",
      "   15\n"
     ]
    },
    {
     "data": {
      "image/png": "[encoded data removed]",
      "text/plain": [
       "<Figure size 432x288 with 2 Axes>"
      ]
     },
     "metadata": {
      "needs_background": "light"
     },
     "output_type": "display_data"
    },
    {
     "name": "stdout",
     "output_type": "stream",
     "text": [
      "   pixel acc is : 0.998020\n",
      "   mIoU is : 0.966921\n",
      "   mIoU (2nd code) is : 0.966921\n",
      "   recall:  0.9998297491248406\n",
      "   precision:  0.9981304233438647\n",
      "   F2 score:  0.9994894212274873\n",
      "dice coeff:  tensor(0.9829, dtype=torch.float64)\n",
      "   16\n"
     ]
    },
    {
     "data": {
      "image/png": "[encoded data removed]",
      "text/plain": [
       "<Figure size 432x288 with 2 Axes>"
      ]
     },
     "metadata": {
      "needs_background": "light"
     },
     "output_type": "display_data"
    },
    {
     "name": "stdout",
     "output_type": "stream",
     "text": [
      "   pixel acc is : 0.997656\n",
      "   mIoU is : 0.965269\n",
      "   mIoU (2nd code) is : 0.965269\n",
      "   recall:  0.9998076433057372\n",
      "   precision:  0.9977687252565343\n",
      "   F2 score:  0.999399193330896\n",
      "dice coeff:  tensor(0.9821, dtype=torch.float64)\n",
      "   17\n"
     ]
    },
    {
     "data": {
      "image/png": "[encoded data removed]",
      "text/plain": [
       "<Figure size 432x288 with 2 Axes>"
      ]
     },
     "metadata": {
      "needs_background": "light"
     },
     "output_type": "display_data"
    },
    {
     "name": "stdout",
     "output_type": "stream",
     "text": [
      "   pixel acc is : 0.997720\n",
      "   mIoU is : 0.974487\n",
      "   mIoU (2nd code) is : 0.974487\n",
      "   recall:  0.999936959228381\n",
      "   precision:  0.9976759106090435\n",
      "   F2 score:  0.9994839299959547\n",
      "dice coeff:  tensor(0.9869, dtype=torch.float64)\n",
      "   18\n"
     ]
    },
    {
     "data": {
      "image/png": "[encoded data removed]",
      "text/plain": [
       "<Figure size 432x288 with 2 Axes>"
      ]
     },
     "metadata": {
      "needs_background": "light"
     },
     "output_type": "display_data"
    },
    {
     "name": "stdout",
     "output_type": "stream",
     "text": [
      "   pixel acc is : 0.998472\n",
      "   mIoU is : 0.976659\n",
      "   mIoU (2nd code) is : 0.976659\n",
      "   recall:  0.9998315600348109\n",
      "   precision:  0.9985887322890575\n",
      "   F2 score:  0.9995827470586475\n",
      "dice coeff:  tensor(0.9881, dtype=torch.float64)\n",
      "   19\n"
     ]
    },
    {
     "data": {
      "image/png": "[encoded data removed]",
      "text/plain": [
       "<Figure size 432x288 with 2 Axes>"
      ]
     },
     "metadata": {
      "needs_background": "light"
     },
     "output_type": "display_data"
    },
    {
     "name": "stdout",
     "output_type": "stream",
     "text": [
      "   pixel acc is : 0.998098\n",
      "   mIoU is : 0.965596\n",
      "   mIoU (2nd code) is : 0.965596\n",
      "   recall:  0.9993576022441756\n",
      "   precision:  0.9986863238880848\n",
      "   F2 score:  0.9992232743894818\n",
      "dice coeff:  tensor(0.9822, dtype=torch.float64)\n",
      "   20\n"
     ]
    },
    {
     "data": {
      "image/png": "[encoded data removed]",
      "text/plain": [
       "<Figure size 432x288 with 2 Axes>"
      ]
     },
     "metadata": {
      "needs_background": "light"
     },
     "output_type": "display_data"
    },
    {
     "name": "stdout",
     "output_type": "stream",
     "text": [
      "   pixel acc is : 0.997575\n",
      "   mIoU is : 0.979875\n",
      "   mIoU (2nd code) is : 0.979875\n",
      "   recall:  0.9985900277785572\n",
      "   precision:  0.9988212428871129\n",
      "   F2 score:  0.998636262236109\n",
      "dice coeff:  tensor(0.9898, dtype=torch.float64)\n",
      "   21\n"
     ]
    },
    {
     "data": {
      "image/png": "[encoded data removed]",
      "text/plain": [
       "<Figure size 432x288 with 2 Axes>"
      ]
     },
     "metadata": {
      "needs_background": "light"
     },
     "output_type": "display_data"
    },
    {
     "name": "stdout",
     "output_type": "stream",
     "text": [
      "   pixel acc is : 0.993908\n",
      "   mIoU is : 0.932340\n",
      "   mIoU (2nd code) is : 0.932340\n",
      "   recall:  0.9972033796045455\n",
      "   precision:  0.9964230325496946\n",
      "   F2 score:  0.9970472124284868\n",
      "dice coeff:  tensor(0.9639, dtype=torch.float64)\n",
      "   22\n"
     ]
    },
    {
     "data": {
      "image/png": "[encoded data removed]",
      "text/plain": [
       "<Figure size 432x288 with 2 Axes>"
      ]
     },
     "metadata": {
      "needs_background": "light"
     },
     "output_type": "display_data"
    },
    {
     "name": "stdout",
     "output_type": "stream",
     "text": [
      "   pixel acc is : 0.980778\n",
      "   mIoU is : 0.911412\n",
      "   mIoU (2nd code) is : 0.911412\n",
      "   recall:  0.9888523248478235\n",
      "   precision:  0.9894562999460872\n",
      "   F2 score:  0.9889730608725783\n",
      "dice coeff:  tensor(0.9524, dtype=torch.float64)\n",
      "   23\n"
     ]
    },
    {
     "data": {
      "image/png": "[encoded data removed]",
      "text/plain": [
       "<Figure size 432x288 with 2 Axes>"
      ]
     },
     "metadata": {
      "needs_background": "light"
     },
     "output_type": "display_data"
    },
    {
     "name": "stdout",
     "output_type": "stream",
     "text": [
      "   pixel acc is : 0.998162\n",
      "   mIoU is : 0.983715\n",
      "   mIoU (2nd code) is : 0.983715\n",
      "   recall:  0.9992787896544951\n",
      "   precision:  0.9987674900562513\n",
      "   F2 score:  0.9991764878591517\n",
      "dice coeff:  tensor(0.9917, dtype=torch.float64)\n",
      "   24\n"
     ]
    },
    {
     "data": {
      "image/png": "[encoded data removed]",
      "text/plain": [
       "<Figure size 432x288 with 2 Axes>"
      ]
     },
     "metadata": {
      "needs_background": "light"
     },
     "output_type": "display_data"
    },
    {
     "name": "stdout",
     "output_type": "stream",
     "text": [
      "   pixel acc is : 0.997813\n",
      "   mIoU is : 0.948918\n",
      "   mIoU (2nd code) is : 0.948918\n",
      "   recall:  0.9986803880053179\n",
      "   precision:  0.9990862406561334\n",
      "   F2 score:  0.998761532154614\n",
      "dice coeff:  tensor(0.9731, dtype=torch.float64)\n",
      "   25\n"
     ]
    },
    {
     "data": {
      "image/png": "[encoded data removed]",
      "text/plain": [
       "<Figure size 432x288 with 2 Axes>"
      ]
     },
     "metadata": {
      "needs_background": "light"
     },
     "output_type": "display_data"
    },
    {
     "name": "stdout",
     "output_type": "stream",
     "text": [
      "   pixel acc is : 0.997408\n",
      "   mIoU is : 0.960215\n",
      "   mIoU (2nd code) is : 0.960215\n",
      "   recall:  0.999615858556127\n",
      "   precision:  0.9977070215928358\n",
      "   F2 score:  0.9992335070617586\n",
      "dice coeff:  tensor(0.9793, dtype=torch.float64)\n",
      "   26\n"
     ]
    },
    {
     "data": {
      "image/png": "[encoded data removed]",
      "text/plain": [
       "<Figure size 432x288 with 2 Axes>"
      ]
     },
     "metadata": {
      "needs_background": "light"
     },
     "output_type": "display_data"
    },
    {
     "name": "stdout",
     "output_type": "stream",
     "text": [
      "   pixel acc is : 0.997746\n",
      "   mIoU is : 0.967664\n",
      "   mIoU (2nd code) is : 0.967664\n",
      "   recall:  0.998870816221826\n",
      "   precision:  0.9987936002248823\n",
      "   F2 score:  0.9988553720673301\n",
      "dice coeff:  tensor(0.9833, dtype=torch.float64)\n",
      "   27\n"
     ]
    },
    {
     "data": {
      "image/png": "[encoded data removed]",
      "text/plain": [
       "<Figure size 432x288 with 2 Axes>"
      ]
     },
     "metadata": {
      "needs_background": "light"
     },
     "output_type": "display_data"
    },
    {
     "name": "stdout",
     "output_type": "stream",
     "text": [
      "   pixel acc is : 0.996923\n",
      "   mIoU is : 0.928407\n",
      "   mIoU (2nd code) is : 0.928407\n",
      "   recall:  0.9993249286124326\n",
      "   precision:  0.9975357282513262\n",
      "   F2 score:  0.9989665752609544\n",
      "dice coeff:  tensor(0.9616, dtype=torch.float64)\n",
      "   28\n"
     ]
    },
    {
     "data": {
      "image/png": "[encoded data removed]",
      "text/plain": [
       "<Figure size 432x288 with 2 Axes>"
      ]
     },
     "metadata": {
      "needs_background": "light"
     },
     "output_type": "display_data"
    },
    {
     "name": "stdout",
     "output_type": "stream",
     "text": [
      "   pixel acc is : 0.996783\n",
      "   mIoU is : 0.955269\n",
      "   mIoU (2nd code) is : 0.955269\n",
      "   recall:  0.9998347099159024\n",
      "   precision:  0.9968339575530587\n",
      "   F2 score:  0.9992331150147271\n",
      "dice coeff:  tensor(0.9767, dtype=torch.float64)\n",
      "   29\n"
     ]
    },
    {
     "data": {
      "image/png": "[encoded data removed]",
      "text/plain": [
       "<Figure size 432x288 with 2 Axes>"
      ]
     },
     "metadata": {
      "needs_background": "light"
     },
     "output_type": "display_data"
    },
    {
     "name": "stdout",
     "output_type": "stream",
     "text": [
      "   pixel acc is : 0.990265\n",
      "   mIoU is : 0.952052\n",
      "   mIoU (2nd code) is : 0.952052\n",
      "   recall:  0.9962590847040079\n",
      "   precision:  0.9928133283906752\n",
      "   F2 score:  0.9955680212993082\n",
      "dice coeff:  tensor(0.9751, dtype=torch.float64)\n",
      "   30\n"
     ]
    },
    {
     "data": {
      "image/png": "[encoded data removed]",
      "text/plain": [
       "<Figure size 432x288 with 2 Axes>"
      ]
     },
     "metadata": {
      "needs_background": "light"
     },
     "output_type": "display_data"
    },
    {
     "name": "stdout",
     "output_type": "stream",
     "text": [
      "   pixel acc is : 0.996327\n",
      "   mIoU is : 0.965288\n",
      "   mIoU (2nd code) is : 0.965288\n",
      "   recall:  0.9994160178641093\n",
      "   precision:  0.9967037268652228\n",
      "   F2 score:  0.9988723793704268\n",
      "dice coeff:  tensor(0.9821, dtype=torch.float64)\n",
      "   31\n"
     ]
    },
    {
     "data": {
      "image/png": "[encoded data removed]",
      "text/plain": [
       "<Figure size 432x288 with 2 Axes>"
      ]
     },
     "metadata": {
      "needs_background": "light"
     },
     "output_type": "display_data"
    },
    {
     "name": "stdout",
     "output_type": "stream",
     "text": [
      "   pixel acc is : 0.967058\n",
      "   mIoU is : 0.778499\n",
      "   mIoU (2nd code) is : 0.778499\n",
      "   recall:  0.9743387224680873\n",
      "   precision:  0.9905948061743326\n",
      "   F2 score:  0.9775471155746394\n",
      "dice coeff:  tensor(0.8629, dtype=torch.float64)\n",
      "   32\n"
     ]
    },
    {
     "data": {
      "image/png": "[encoded data removed]",
      "text/plain": [
       "<Figure size 432x288 with 2 Axes>"
      ]
     },
     "metadata": {
      "needs_background": "light"
     },
     "output_type": "display_data"
    },
    {
     "name": "stdout",
     "output_type": "stream",
     "text": [
      "   pixel acc is : 0.996487\n",
      "   mIoU is : 0.960000\n",
      "   mIoU (2nd code) is : 0.960000\n",
      "   recall:  0.9982129599821296\n",
      "   precision:  0.9981113173151144\n",
      "   F2 score:  0.9981926297926352\n",
      "dice coeff:  tensor(0.9792, dtype=torch.float64)\n",
      "   33\n"
     ]
    },
    {
     "data": {
      "image/png": "[encoded data removed]",
      "text/plain": [
       "<Figure size 432x288 with 2 Axes>"
      ]
     },
     "metadata": {
      "needs_background": "light"
     },
     "output_type": "display_data"
    },
    {
     "name": "stdout",
     "output_type": "stream",
     "text": [
      "   pixel acc is : 0.995628\n",
      "   mIoU is : 0.947623\n",
      "   mIoU (2nd code) is : 0.947623\n",
      "   recall:  0.9993222405869547\n",
      "   precision:  0.9961222690753471\n",
      "   F2 score:  0.998680602591961\n",
      "dice coeff:  tensor(0.9725, dtype=torch.float64)\n",
      "   34\n"
     ]
    },
    {
     "data": {
      "image/png": "[encoded data removed]",
      "text/plain": [
       "<Figure size 432x288 with 2 Axes>"
      ]
     },
     "metadata": {
      "needs_background": "light"
     },
     "output_type": "display_data"
    },
    {
     "name": "stdout",
     "output_type": "stream",
     "text": [
      "   pixel acc is : 0.833704\n",
      "   mIoU is : 0.456539\n",
      "   mIoU (2nd code) is : 0.456539\n",
      "   recall:  0.8568442627403123\n",
      "   precision:  0.9652456983413424\n",
      "   F2 score:  0.8765319594411377\n",
      "dice coeff:  tensor(0.5296, dtype=torch.float64)\n",
      "   35\n"
     ]
    },
    {
     "data": {
      "image/png": "[encoded data removed]",
      "text/plain": [
       "<Figure size 432x288 with 2 Axes>"
      ]
     },
     "metadata": {
      "needs_background": "light"
     },
     "output_type": "display_data"
    },
    {
     "name": "stdout",
     "output_type": "stream",
     "text": [
      "   pixel acc is : 0.995911\n",
      "   mIoU is : 0.961057\n",
      "   mIoU (2nd code) is : 0.961057\n",
      "   recall:  0.9994593391976689\n",
      "   precision:  0.9962252363102222\n",
      "   F2 score:  0.9988108398616806\n",
      "dice coeff:  tensor(0.9798, dtype=torch.float64)\n",
      "   36\n"
     ]
    },
    {
     "data": {
      "image/png": "[encoded data removed]",
      "text/plain": [
       "<Figure size 432x288 with 2 Axes>"
      ]
     },
     "metadata": {
      "needs_background": "light"
     },
     "output_type": "display_data"
    },
    {
     "name": "stdout",
     "output_type": "stream",
     "text": [
      "   pixel acc is : 0.995890\n",
      "   mIoU is : 0.948093\n",
      "   mIoU (2nd code) is : 0.948093\n",
      "   recall:  0.9975396976603607\n",
      "   precision:  0.9981830035516162\n",
      "   F2 score:  0.9976682924947342\n",
      "dice coeff:  tensor(0.9727, dtype=torch.float64)\n",
      "   37\n"
     ]
    },
    {
     "data": {
      "image/png": "[encoded data removed]",
      "text/plain": [
       "<Figure size 432x288 with 2 Axes>"
      ]
     },
     "metadata": {
      "needs_background": "light"
     },
     "output_type": "display_data"
    },
    {
     "name": "stdout",
     "output_type": "stream",
     "text": [
      "   pixel acc is : 0.980585\n",
      "   mIoU is : 0.928871\n",
      "   mIoU (2nd code) is : 0.928871\n",
      "   recall:  0.9822873543996642\n",
      "   precision:  0.9948807820201727\n",
      "   F2 score:  0.9847804695123538\n",
      "dice coeff:  tensor(0.9625, dtype=torch.float64)\n",
      "   38\n"
     ]
    },
    {
     "data": {
      "image/png": "[encoded data removed]",
      "text/plain": [
       "<Figure size 432x288 with 2 Axes>"
      ]
     },
     "metadata": {
      "needs_background": "light"
     },
     "output_type": "display_data"
    },
    {
     "name": "stdout",
     "output_type": "stream",
     "text": [
      "   pixel acc is : 0.993164\n",
      "   mIoU is : 0.931859\n",
      "   mIoU (2nd code) is : 0.931859\n",
      "   recall:  0.99946052547872\n",
      "   precision:  0.9933659765393817\n",
      "   F2 score:  0.9982356403695244\n",
      "dice coeff:  tensor(0.9637, dtype=torch.float64)\n",
      "   39\n"
     ]
    },
    {
     "data": {
      "image/png": "[encoded data removed]",
      "text/plain": [
       "<Figure size 432x288 with 2 Axes>"
      ]
     },
     "metadata": {
      "needs_background": "light"
     },
     "output_type": "display_data"
    },
    {
     "name": "stdout",
     "output_type": "stream",
     "text": [
      "   pixel acc is : 0.998028\n",
      "   mIoU is : 0.977556\n",
      "   mIoU (2nd code) is : 0.977556\n",
      "   recall:  0.9990266323344653\n",
      "   precision:  0.9989085888769349\n",
      "   F2 score:  0.9990030214110946\n",
      "dice coeff:  tensor(0.9885, dtype=torch.float64)\n",
      "   40\n"
     ]
    },
    {
     "data": {
      "image/png": "[encoded data removed]",
      "text/plain": [
       "<Figure size 432x288 with 2 Axes>"
      ]
     },
     "metadata": {
      "needs_background": "light"
     },
     "output_type": "display_data"
    },
    {
     "name": "stdout",
     "output_type": "stream",
     "text": [
      "   pixel acc is : 0.996600\n",
      "   mIoU is : 0.946254\n",
      "   mIoU (2nd code) is : 0.946254\n",
      "   recall:  0.9977937957656797\n",
      "   precision:  0.9986979814978939\n",
      "   F2 score:  0.9979745019095707\n",
      "dice coeff:  tensor(0.9717, dtype=torch.float64)\n",
      "   41\n"
     ]
    },
    {
     "data": {
      "image/png": "[encoded data removed]",
      "text/plain": [
       "<Figure size 432x288 with 2 Axes>"
      ]
     },
     "metadata": {
      "needs_background": "light"
     },
     "output_type": "display_data"
    },
    {
     "name": "stdout",
     "output_type": "stream",
     "text": [
      "   pixel acc is : 0.992928\n",
      "   mIoU is : 0.945592\n",
      "   mIoU (2nd code) is : 0.945592\n",
      "   recall:  0.9981318567584351\n",
      "   precision:  0.9943010910665543\n",
      "   F2 score:  0.9973633440181934\n",
      "dice coeff:  tensor(0.9714, dtype=torch.float64)\n",
      "   42\n"
     ]
    },
    {
     "data": {
      "image/png": "[encoded data removed]",
      "text/plain": [
       "<Figure size 432x288 with 2 Axes>"
      ]
     },
     "metadata": {
      "needs_background": "light"
     },
     "output_type": "display_data"
    },
    {
     "name": "stdout",
     "output_type": "stream",
     "text": [
      "   pixel acc is : 0.990114\n",
      "   mIoU is : 0.963620\n",
      "   mIoU (2nd code) is : 0.963620\n",
      "   recall:  0.999666288460255\n",
      "   precision:  0.9886698971826173\n",
      "   F2 score:  0.997447484620664\n",
      "dice coeff:  tensor(0.9813, dtype=torch.float64)\n",
      "   43\n"
     ]
    },
    {
     "data": {
      "image/png": "[encoded data removed]",
      "text/plain": [
       "<Figure size 432x288 with 2 Axes>"
      ]
     },
     "metadata": {
      "needs_background": "light"
     },
     "output_type": "display_data"
    },
    {
     "name": "stdout",
     "output_type": "stream",
     "text": [
      "   pixel acc is : 0.996074\n",
      "   mIoU is : 0.971956\n",
      "   mIoU (2nd code) is : 0.971956\n",
      "   recall:  0.9999139190317196\n",
      "   precision:  0.9958563033549654\n",
      "   F2 score:  0.9990997528099493\n",
      "dice coeff:  tensor(0.9856, dtype=torch.float64)\n",
      "   44\n"
     ]
    },
    {
     "data": {
      "image/png": "[encoded data removed]",
      "text/plain": [
       "<Figure size 432x288 with 2 Axes>"
      ]
     },
     "metadata": {
      "needs_background": "light"
     },
     "output_type": "display_data"
    },
    {
     "name": "stdout",
     "output_type": "stream",
     "text": [
      "   pixel acc is : 0.974855\n",
      "   mIoU is : 0.911018\n",
      "   mIoU (2nd code) is : 0.911018\n",
      "   recall:  0.9941545171609512\n",
      "   precision:  0.976193177386532\n",
      "   F2 score:  0.9905095666963566\n",
      "dice coeff:  tensor(0.9524, dtype=torch.float64)\n",
      "   45\n"
     ]
    },
    {
     "data": {
      "image/png": "[encoded data removed]",
      "text/plain": [
       "<Figure size 432x288 with 2 Axes>"
      ]
     },
     "metadata": {
      "needs_background": "light"
     },
     "output_type": "display_data"
    },
    {
     "name": "stdout",
     "output_type": "stream",
     "text": [
      "   pixel acc is : 0.996763\n",
      "   mIoU is : 0.977765\n",
      "   mIoU (2nd code) is : 0.977765\n",
      "   recall:  0.9998037928623411\n",
      "   precision:  0.9966926395226021\n",
      "   F2 score:  0.9991800093407633\n",
      "dice coeff:  tensor(0.9887, dtype=torch.float64)\n",
      "   46\n"
     ]
    },
    {
     "data": {
      "image/png": "[encoded data removed]",
      "text/plain": [
       "<Figure size 432x288 with 2 Axes>"
      ]
     },
     "metadata": {
      "needs_background": "light"
     },
     "output_type": "display_data"
    },
    {
     "name": "stdout",
     "output_type": "stream",
     "text": [
      "   pixel acc is : 0.997509\n",
      "   mIoU is : 0.960802\n",
      "   mIoU (2nd code) is : 0.960802\n",
      "   recall:  0.9988186981867251\n",
      "   precision:  0.9986088775088637\n",
      "   F2 score:  0.9987767269976818\n",
      "dice coeff:  tensor(0.9797, dtype=torch.float64)\n",
      "   47\n"
     ]
    },
    {
     "data": {
      "image/png": "[encoded data removed]",
      "text/plain": [
       "<Figure size 432x288 with 2 Axes>"
      ]
     },
     "metadata": {
      "needs_background": "light"
     },
     "output_type": "display_data"
    },
    {
     "name": "stdout",
     "output_type": "stream",
     "text": [
      "   pixel acc is : 0.997726\n",
      "   mIoU is : 0.961990\n",
      "   mIoU (2nd code) is : 0.961990\n",
      "   recall:  0.999848406754995\n",
      "   precision:  0.997809870710221\n",
      "   F2 score:  0.9994400334581173\n",
      "dice coeff:  tensor(0.9803, dtype=torch.float64)\n",
      "   48\n"
     ]
    },
    {
     "data": {
      "image/png": "[encoded data removed]",
      "text/plain": [
       "<Figure size 432x288 with 2 Axes>"
      ]
     },
     "metadata": {
      "needs_background": "light"
     },
     "output_type": "display_data"
    },
    {
     "name": "stdout",
     "output_type": "stream",
     "text": [
      "   pixel acc is : 0.994675\n",
      "   mIoU is : 0.964179\n",
      "   mIoU (2nd code) is : 0.964179\n",
      "   recall:  0.9993206802852453\n",
      "   precision:  0.9949121295244111\n",
      "   F2 score:  0.9984358473469698\n",
      "dice coeff:  tensor(0.9815, dtype=torch.float64)\n",
      "   49\n"
     ]
    },
    {
     "data": {
      "image/png": "[encoded data removed]",
      "text/plain": [
       "<Figure size 432x288 with 2 Axes>"
      ]
     },
     "metadata": {
      "needs_background": "light"
     },
     "output_type": "display_data"
    },
    {
     "name": "stdout",
     "output_type": "stream",
     "text": [
      "   pixel acc is : 0.932604\n",
      "   mIoU is : 0.642184\n",
      "   mIoU (2nd code) is : 0.642184\n",
      "   recall:  0.9660331332016472\n",
      "   precision:  0.9614558088253704\n",
      "   F2 score:  0.9651141849475307\n",
      "dice coeff:  tensor(0.7435, dtype=torch.float64)\n",
      "   50\n"
     ]
    },
    {
     "data": {
      "image/png": "[encoded data removed]",
      "text/plain": [
       "<Figure size 432x288 with 2 Axes>"
      ]
     },
     "metadata": {
      "needs_background": "light"
     },
     "output_type": "display_data"
    },
    {
     "name": "stdout",
     "output_type": "stream",
     "text": [
      "   pixel acc is : 0.995932\n",
      "   mIoU is : 0.949456\n",
      "   mIoU (2nd code) is : 0.949456\n",
      "   recall:  0.9968486472517243\n",
      "   precision:  0.9989163611861194\n",
      "   F2 score:  0.9972615049423434\n",
      "dice coeff:  tensor(0.9735, dtype=torch.float64)\n",
      "   51\n"
     ]
    },
    {
     "data": {
      "image/png": "[encoded data removed]",
      "text/plain": [
       "<Figure size 432x288 with 2 Axes>"
      ]
     },
     "metadata": {
      "needs_background": "light"
     },
     "output_type": "display_data"
    },
    {
     "name": "stdout",
     "output_type": "stream",
     "text": [
      "   pixel acc is : 0.965381\n",
      "   mIoU is : 0.652859\n",
      "   mIoU (2nd code) is : 0.652859\n",
      "   recall:  0.9871721757306409\n",
      "   precision:  0.9769982048107094\n",
      "   F2 score:  0.9851204653145134\n",
      "dice coeff:  tensor(0.7453, dtype=torch.float64)\n",
      "   52\n"
     ]
    },
    {
     "data": {
      "image/png": "[encoded data removed]",
      "text/plain": [
       "<Figure size 432x288 with 2 Axes>"
      ]
     },
     "metadata": {
      "needs_background": "light"
     },
     "output_type": "display_data"
    },
    {
     "name": "stdout",
     "output_type": "stream",
     "text": [
      "   pixel acc is : 0.995680\n",
      "   mIoU is : 0.968369\n",
      "   mIoU (2nd code) is : 0.968369\n",
      "   recall:  0.9990971434818873\n",
      "   precision:  0.9962537859971954\n",
      "   F2 score:  0.9985271743124537\n",
      "dice coeff:  tensor(0.9837, dtype=torch.float64)\n",
      "   53\n"
     ]
    },
    {
     "data": {
      "image/png": "[encoded data removed]",
      "text/plain": [
       "<Figure size 432x288 with 2 Axes>"
      ]
     },
     "metadata": {
      "needs_background": "light"
     },
     "output_type": "display_data"
    },
    {
     "name": "stdout",
     "output_type": "stream",
     "text": [
      "   pixel acc is : 0.995513\n",
      "   mIoU is : 0.965373\n",
      "   mIoU (2nd code) is : 0.965373\n",
      "   recall:  0.9997311647288124\n",
      "   precision:  0.9954669052382429\n",
      "   F2 score:  0.9988753926583144\n",
      "dice coeff:  tensor(0.9821, dtype=torch.float64)\n",
      "   54\n"
     ]
    },
    {
     "data": {
      "image/png": "[encoded data removed]",
      "text/plain": [
       "<Figure size 432x288 with 2 Axes>"
      ]
     },
     "metadata": {
      "needs_background": "light"
     },
     "output_type": "display_data"
    },
    {
     "name": "stdout",
     "output_type": "stream",
     "text": [
      "   pixel acc is : 0.994627\n",
      "   mIoU is : 0.939341\n",
      "   mIoU (2nd code) is : 0.939341\n",
      "   recall:  0.9973990721781115\n",
      "   precision:  0.9969818223931288\n",
      "   F2 score:  0.9973155942835447\n",
      "dice coeff:  tensor(0.9679, dtype=torch.float64)\n",
      "   55\n"
     ]
    },
    {
     "data": {
      "image/png": "[encoded data removed]",
      "text/plain": [
       "<Figure size 432x288 with 2 Axes>"
      ]
     },
     "metadata": {
      "needs_background": "light"
     },
     "output_type": "display_data"
    },
    {
     "name": "stdout",
     "output_type": "stream",
     "text": [
      "   pixel acc is : 0.998208\n",
      "   mIoU is : 0.976143\n",
      "   mIoU (2nd code) is : 0.976143\n",
      "   recall:  0.9994833493010168\n",
      "   precision:  0.9986543140886047\n",
      "   F2 score:  0.9993174321607309\n",
      "dice coeff:  tensor(0.9878, dtype=torch.float64)\n",
      "   56\n"
     ]
    },
    {
     "data": {
      "image/png": "[encoded data removed]",
      "text/plain": [
       "<Figure size 432x288 with 2 Axes>"
      ]
     },
     "metadata": {
      "needs_background": "light"
     },
     "output_type": "display_data"
    },
    {
     "name": "stdout",
     "output_type": "stream",
     "text": [
      "   pixel acc is : 0.986172\n",
      "   mIoU is : 0.907411\n",
      "   mIoU (2nd code) is : 0.907411\n",
      "   recall:  0.9982121280587837\n",
      "   precision:  0.9869151072359045\n",
      "   F2 score:  0.9959320807938448\n",
      "dice coeff:  tensor(0.9497, dtype=torch.float64)\n",
      "   57\n"
     ]
    },
    {
     "data": {
      "image/png": "[encoded data removed]",
      "text/plain": [
       "<Figure size 432x288 with 2 Axes>"
      ]
     },
     "metadata": {
      "needs_background": "light"
     },
     "output_type": "display_data"
    },
    {
     "name": "stdout",
     "output_type": "stream",
     "text": [
      "   pixel acc is : 0.997021\n",
      "   mIoU is : 0.970243\n",
      "   mIoU (2nd code) is : 0.970243\n",
      "   recall:  0.9986471143236372\n",
      "   precision:  0.9982129213141901\n",
      "   F2 score:  0.9985602455066037\n",
      "dice coeff:  tensor(0.9847, dtype=torch.float64)\n",
      "   58\n"
     ]
    },
    {
     "data": {
      "image/png": "[encoded data removed]",
      "text/plain": [
       "<Figure size 432x288 with 2 Axes>"
      ]
     },
     "metadata": {
      "needs_background": "light"
     },
     "output_type": "display_data"
    },
    {
     "name": "stdout",
     "output_type": "stream",
     "text": [
      "   pixel acc is : 0.995870\n",
      "   mIoU is : 0.966108\n",
      "   mIoU (2nd code) is : 0.966108\n",
      "   recall:  0.9998736279607163\n",
      "   precision:  0.9957263091388667\n",
      "   F2 score:  0.9990414026443887\n",
      "dice coeff:  tensor(0.9825, dtype=torch.float64)\n",
      "   59\n"
     ]
    },
    {
     "data": {
      "image/png": "[encoded data removed]",
      "text/plain": [
       "<Figure size 432x288 with 2 Axes>"
      ]
     },
     "metadata": {
      "needs_background": "light"
     },
     "output_type": "display_data"
    },
    {
     "name": "stdout",
     "output_type": "stream",
     "text": [
      "   pixel acc is : 0.996682\n",
      "   mIoU is : 0.970452\n",
      "   mIoU (2nd code) is : 0.970452\n",
      "   recall:  0.9998769265482256\n",
      "   precision:  0.9966061064527423\n",
      "   F2 score:  0.9992210461043337\n",
      "dice coeff:  tensor(0.9848, dtype=torch.float64)\n",
      "   60\n"
     ]
    },
    {
     "data": {
      "image/png": "[encoded data removed]",
      "text/plain": [
       "<Figure size 432x288 with 2 Axes>"
      ]
     },
     "metadata": {
      "needs_background": "light"
     },
     "output_type": "display_data"
    },
    {
     "name": "stdout",
     "output_type": "stream",
     "text": [
      "   pixel acc is : 0.993745\n",
      "   mIoU is : 0.963367\n",
      "   mIoU (2nd code) is : 0.963367\n",
      "   recall:  0.9992493803023427\n",
      "   precision:  0.9938834279591335\n",
      "   F2 score:  0.9981715595301855\n",
      "dice coeff:  tensor(0.9811, dtype=torch.float64)\n",
      "   61\n"
     ]
    },
    {
     "data": {
      "image/png": "[encoded data removed]",
      "text/plain": [
       "<Figure size 432x288 with 2 Axes>"
      ]
     },
     "metadata": {
      "needs_background": "light"
     },
     "output_type": "display_data"
    },
    {
     "name": "stdout",
     "output_type": "stream",
     "text": [
      "   pixel acc is : 0.989029\n",
      "   mIoU is : 0.960416\n",
      "   mIoU (2nd code) is : 0.960416\n",
      "   recall:  0.9998641708788144\n",
      "   precision:  0.9871518692988738\n",
      "   F2 score:  0.9972955849025494\n",
      "dice coeff:  tensor(0.9796, dtype=torch.float64)\n",
      "   62\n"
     ]
    },
    {
     "data": {
      "image/png": "[encoded data removed]",
      "text/plain": [
       "<Figure size 432x288 with 2 Axes>"
      ]
     },
     "metadata": {
      "needs_background": "light"
     },
     "output_type": "display_data"
    },
    {
     "name": "stdout",
     "output_type": "stream",
     "text": [
      "   pixel acc is : 0.987432\n",
      "   mIoU is : 0.967011\n",
      "   mIoU (2nd code) is : 0.967011\n",
      "   recall:  0.9980021688893479\n",
      "   precision:  0.9853637551384595\n",
      "   F2 score:  0.9954486161707082\n",
      "dice coeff:  tensor(0.9832, dtype=torch.float64)\n",
      "   63\n"
     ]
    },
    {
     "data": {
      "image/png": "[encoded data removed]",
      "text/plain": [
       "<Figure size 432x288 with 2 Axes>"
      ]
     },
     "metadata": {
      "needs_background": "light"
     },
     "output_type": "display_data"
    },
    {
     "name": "stdout",
     "output_type": "stream",
     "text": [
      "   pixel acc is : 0.991559\n",
      "   mIoU is : 0.968290\n",
      "   mIoU (2nd code) is : 0.968290\n",
      "   recall:  0.9964908808370533\n",
      "   precision:  0.9935412127693051\n",
      "   F2 score:  0.9958995469186457\n",
      "dice coeff:  tensor(0.9838, dtype=torch.float64)\n",
      "   64\n"
     ]
    },
    {
     "data": {
      "image/png": "[encoded data removed]",
      "text/plain": [
       "<Figure size 432x288 with 2 Axes>"
      ]
     },
     "metadata": {
      "needs_background": "light"
     },
     "output_type": "display_data"
    },
    {
     "name": "stdout",
     "output_type": "stream",
     "text": [
      "   pixel acc is : 0.992793\n",
      "   mIoU is : 0.957527\n",
      "   mIoU (2nd code) is : 0.957527\n",
      "   recall:  0.9975223449164538\n",
      "   precision:  0.9945633437420168\n",
      "   F2 score:  0.9969291369512435\n",
      "dice coeff:  tensor(0.9780, dtype=torch.float64)\n",
      "   65\n"
     ]
    },
    {
     "data": {
      "image/png": "[encoded data removed]",
      "text/plain": [
       "<Figure size 432x288 with 2 Axes>"
      ]
     },
     "metadata": {
      "needs_background": "light"
     },
     "output_type": "display_data"
    },
    {
     "name": "stdout",
     "output_type": "stream",
     "text": [
      "   pixel acc is : 0.993485\n",
      "   mIoU is : 0.970382\n",
      "   mIoU (2nd code) is : 0.970382\n",
      "   recall:  0.9982810241585794\n",
      "   precision:  0.994303195454896\n",
      "   F2 score:  0.9974829142488717\n",
      "dice coeff:  tensor(0.9848, dtype=torch.float64)\n",
      "   66\n"
     ]
    },
    {
     "data": {
      "image/png": "[encoded data removed]",
      "text/plain": [
       "<Figure size 432x288 with 2 Axes>"
      ]
     },
     "metadata": {
      "needs_background": "light"
     },
     "output_type": "display_data"
    },
    {
     "name": "stdout",
     "output_type": "stream",
     "text": [
      "   pixel acc is : 0.994464\n",
      "   mIoU is : 0.970967\n",
      "   mIoU (2nd code) is : 0.970967\n",
      "   recall:  0.9978802717130745\n",
      "   precision:  0.9959435047688685\n",
      "   F2 score:  0.9974923159434212\n",
      "dice coeff:  tensor(0.9851, dtype=torch.float64)\n",
      "   67\n"
     ]
    }
   ],
   "source": [
    "# PATH = 'pathmax101res.pth'\n",
    "# UNET.load_state_dict(torch.load(PATH))   \n",
    "os.environ['KMP_DUPLICATE_LIB_OK']='True'\n",
    "def matplotlib_imshow(display_list):\n",
    "    for i in range(len(display_list)):\n",
    "        plt.subplot(1, len(display_list), i+1)\n",
    "        plt.imshow(display_list[i])\n",
    "        plt.axis('off')\n",
    "    plt.show()\n",
    "\n",
    "import matplotlib.pyplot as plt\n",
    "\n",
    "# import numpy\n",
    "CUDA_LAUNCH_BLOCKING=1\n",
    "los=0\n",
    "kb=0\n",
    "import os\n",
    "os.environ['CUDA_VISIBLE_DEVICES'] = '0'\n",
    "transform_img = transforms.Compose([ \n",
    "    transforms.ToTensor()]);\n",
    "# from google.colab.patches import cv2_imshow\n",
    "kb=los\n",
    "los=0\n",
    "fs=0\n",
    "p=0\n",
    "pre=0\n",
    "rec=0\n",
    "di=0\n",
    "with torch.no_grad():\n",
    "  correct = 0;\n",
    "  total = 0;\n",
    "  UNET.eval()\n",
    "  import cv2\n",
    "  def _fast_hist(label_pred, label_true, n_class):\n",
    "      mask = (label_true >= 0) & (label_true < n_class)\n",
    "      hist = np.bincount(\n",
    "          n_class * label_true[mask].astype(int) + label_pred[mask], minlength=n_class ** 2\n",
    "      ).reshape(n_class, n_class)\n",
    "      return hist\n",
    "\n",
    "\n",
    "  def evaluate(predictions, gts, num_classes):\n",
    "      hist = np.zeros((num_classes, num_classes))\n",
    "      for lp, lt in zip(predictions, gts):\n",
    "          hist += _fast_hist(lp.flatten(), lt.flatten(), num_classes)\n",
    "      \n",
    "      iu = np.diag(hist) / (hist.sum(axis=1) + hist.sum(axis=0) - np.diag(hist))\n",
    "      mean_iu = np.nanmean(iu)\n",
    "      \n",
    "      return mean_iu\n",
    "\n",
    "  for i, data in enumerate(val_loader):\n",
    "      print('  ',i)\n",
    "      inputs, labels = data;\n",
    "      inputs = inputs.to(device);\n",
    "\n",
    "      outputs= UNET.forward(inputs);\n",
    "      \n",
    "      inputs=inputs.squeeze(0)\n",
    "      inputs= np.array(inputs.cpu())\n",
    "      inputs = inputs.reshape(size,size,3)\n",
    "      outputs = corr(outputs);\n",
    "      labels = labels.detach().numpy();\n",
    "      outputs = outputs.reshape(1, size, size);\n",
    "      correct=correct+1\n",
    "\n",
    "      color_pred=labels[0]\n",
    "      d1,a1,b1 =labels[0].shape\n",
    "      \n",
    "      color_pre=outputs\n",
    "      \n",
    "      dd,aa,bb = color_pre.shape\n",
    "      d1,a1,b1 =labels[0].shape\n",
    "\n",
    "      color_pre=np.array(color_pre).reshape(aa,bb)\n",
    "\n",
    "\n",
    "      color_pre=visualize_prediction(color_pre)\n",
    "      img = cv2.resize(color_pre, (a1,d1))\n",
    "      inputs = cv2.resize(inputs, (a1,d1))\n",
    "      inputs=inputs\n",
    "      color_preds=copy.deepcopy(color_pred)\n",
    "      \n",
    "\n",
    "\n",
    "      img1 = cv2.cvtColor(img, cv2.COLOR_BGR2GRAY);\n",
    "      img2 = cv2.cvtColor(color_preds, cv2.COLOR_BGR2GRAY);\n",
    "      img1 = class_pixel(img1)\n",
    "      img2 = class_pixel(img2)\n",
    "      \n",
    "      io=evaluate(img1,img2,2)\n",
    "      matplotlib_imshow([color_pred,img])\n",
    "      cv2.imwrite('result/'+'genintru'+'.jpg',img)\n",
    "      cv2.imwrite('result/'+'gtintru'+'.jpg',color_pred)\n",
    "      total=total+io\n",
    "      metric = SegmentationMetric(2) \n",
    "      metric.addBatch(img1, img2)\n",
    "      pa = metric.pixelAccuracy()\n",
    "      \n",
    "      cpa = metric.recall()[0]\n",
    "      prec = metric.precision()[0]\n",
    "\n",
    "      # mpa = metric.meanPixelAccuracy()\n",
    "      mIoU,per= metric.meanIntersectionOverUnion()\n",
    "      print('   pixel acc is : %f' % pa)\n",
    "      \n",
    "      print('   mIoU is : %f' % mIoU)\n",
    "      print('   mIoU (2nd code) is : %f' % io)\n",
    "      print('   recall: ',cpa)\n",
    "      print('   precision: ',prec)\n",
    "      ff= (5 * prec * cpa) / (4 * prec + cpa)\n",
    "      print('   F2 score: ',ff)\n",
    "      pre=pre+cpa\n",
    "      p=p+pa\n",
    "      rec=rec+prec\n",
    "      fs=fs+ff\n",
    "      dice=eval_metrics(img1, img2, 2)\n",
    "      print('dice coeff: ',dice)\n",
    "      di=di+dice.item()\n",
    "     \n",
    "print(\" \")\n",
    "print(\" \")      \n",
    "print(\"Final test results\")\n",
    "print(\" \")\n",
    "print(\"mIoU score \", (total/correct) * 100);\n",
    "print('f2 score: ',(fs/correct)*100)\n",
    "print('recall : ',(pre/correct) * 100)\n",
    "print('dice coefficient: ',(di/correct) * 100)\n",
    "print('precision : ',(rec/correct) * 100)\n",
    "\n",
    "print('pixel accuracy : ',(p/correct) * 100)\n",
    "\n",
    "\n",
    "\n",
    "\n"
   ]
  },
  {
   "cell_type": "code",
   "execution_count": null,
   "metadata": {},
   "outputs": [],
   "source": []
  }
 ],
 "metadata": {
  "accelerator": "GPU",
  "colab": {
   "collapsed_sections": [],
   "machine_shape": "hm",
   "name": "challenge 2",
   "provenance": []
  },
  "hide_input": false,
  "kernelspec": {
   "display_name": "Python 3",
   "language": "python",
   "name": "python3"
  },
  "language_info": {
   "codemirror_mode": {
    "name": "ipython",
    "version": 3
   },
   "file_extension": ".py",
   "mimetype": "text/x-python",
   "name": "python",
   "nbconvert_exporter": "python",
   "pygments_lexer": "ipython3",
   "version": "3.8.8"
  },
  "toc": {
   "base_numbering": 1,
   "nav_menu": {},
   "number_sections": true,
   "sideBar": true,
   "skip_h1_title": false,
   "title_cell": "Table of Contents",
   "title_sidebar": "Contents",
   "toc_cell": false,
   "toc_position": {},
   "toc_section_display": true,
   "toc_window_display": false
  },
  "varInspector": {
   "cols": {
    "lenName": 16,
    "lenType": 16,
    "lenVar": 40
   },
   "kernels_config": {
    "python": {
     "delete_cmd_postfix": "",
     "delete_cmd_prefix": "del ",
     "library": "var_list.py",
     "varRefreshCmd": "print(var_dic_list())"
    },
    "r": {
     "delete_cmd_postfix": ") ",
     "delete_cmd_prefix": "rm(",
     "library": "var_list.r",
     "varRefreshCmd": "cat(var_dic_list()) "
    }
   },
   "types_to_exclude": [
    "module",
    "function",
    "builtin_function_or_method",
    "instance",
    "_Feature"
   ],
   "window_display": false
  }
 },
 "nbformat": 4,
 "nbformat_minor": 1
}
